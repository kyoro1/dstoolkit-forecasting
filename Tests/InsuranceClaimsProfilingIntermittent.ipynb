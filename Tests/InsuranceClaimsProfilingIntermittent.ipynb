{
 "cells": [
  {
   "cell_type": "markdown",
   "id": "dc3e4402",
   "metadata": {},
   "source": [
    "# Implementation"
   ]
  },
  {
   "cell_type": "markdown",
   "id": "sWbXCGozBRNW",
   "metadata": {
    "id": "sWbXCGozBRNW"
   },
   "source": [
    "## Packages"
   ]
  },
  {
   "cell_type": "code",
   "execution_count": 75,
   "id": "kmxpysFu7zjH",
   "metadata": {
    "colab": {
     "base_uri": "https://localhost:8080/"
    },
    "id": "kmxpysFu7zjH",
    "outputId": "db2717d5-22be-4fa8-99fb-3f9ea90e7e1b"
   },
   "outputs": [],
   "source": [
    "# data elaboration functions\n",
    "import pandas as pd\n",
    "from six.moves import collections_abc\n",
    "import string\n",
    "import numpy as np\n",
    "\n",
    "# datetime functions\n",
    "import datetime as dt\n",
    "\n",
    "# file management functions\n",
    "import os\n",
    "import sys\n",
    "import opendatasets as od\n",
    "import pickle\n",
    "from pathlib import Path\n",
    "\n",
    "# plot functions\n",
    "import matplotlib.pyplot as plt\n",
    "%matplotlib inline\n",
    "\n",
    "# data science functions\n",
    "import matplotlib.pyplot as plt\n",
    "from kneed import KneeLocator\n",
    "from sklearn.datasets import make_blobs\n",
    "from sklearn.cluster import KMeans\n",
    "from sklearn.metrics import silhouette_score\n",
    "from sklearn.preprocessing import StandardScaler, scale\n",
    "from sklearn.metrics import mean_absolute_error\n",
    "import joblib\n",
    "from sklearn.linear_model import LinearRegression\n",
    "from sklearn.ensemble import RandomForestRegressor\n",
    "from sklearn.model_selection import train_test_split\n",
    "import xgboost as xgb\n",
    "\n",
    "# statistical functions\n",
    "from scipy.stats.mstats import winsorize\n",
    "\n",
    "# configuration file\n",
    "module_path = os.path.abspath(os.path.join('..'))\n",
    "if module_path not in sys.path:\n",
    "    sys.path.append(module_path)\n",
    "\n",
    "# custom functions\n",
    "from Code.Profiling.Intermittent.intermittent import Intermittent\n",
    "from Code.Utils.utils import Utils\n",
    "from Code.Scoring.kpi import Kpi\n",
    "from Code.Scoring.forecast import Forecasting\n",
    "from Code.Scoring.train import Training\n",
    "from Code.Scoring.train_test import TrainTest\n",
    "from Code.Scoring.scoring import Scoring\n",
    "from Code.Regressors.regressors import Regressors\n",
    "from Code.Plotting.plots import Plots\n",
    "from Configuration.config import cfg_path"
   ]
  },
  {
   "cell_type": "markdown",
   "id": "8dc26b7b",
   "metadata": {},
   "source": [
    "## Setup"
   ]
  },
  {
   "cell_type": "code",
   "execution_count": 76,
   "id": "458162d0",
   "metadata": {},
   "outputs": [],
   "source": [
    "root = Path(os.getcwd()).parent"
   ]
  },
  {
   "cell_type": "markdown",
   "id": "86bb0e13",
   "metadata": {},
   "source": [
    "## Load Data"
   ]
  },
  {
   "cell_type": "code",
   "execution_count": 77,
   "id": "09358d6d",
   "metadata": {},
   "outputs": [
    {
     "data": {
      "text/html": [
       "<div>\n",
       "<style scoped>\n",
       "    .dataframe tbody tr th:only-of-type {\n",
       "        vertical-align: middle;\n",
       "    }\n",
       "\n",
       "    .dataframe tbody tr th {\n",
       "        vertical-align: top;\n",
       "    }\n",
       "\n",
       "    .dataframe thead th {\n",
       "        text-align: right;\n",
       "    }\n",
       "</style>\n",
       "<table border=\"1\" class=\"dataframe\">\n",
       "  <thead>\n",
       "    <tr style=\"text-align: right;\">\n",
       "      <th></th>\n",
       "      <th>ICD10Description</th>\n",
       "      <th>DateOfAccident</th>\n",
       "      <th>RmaRegionDesc</th>\n",
       "      <th>Product</th>\n",
       "      <th>Sum of PaidDaysValue</th>\n",
       "    </tr>\n",
       "  </thead>\n",
       "  <tbody>\n",
       "    <tr>\n",
       "      <th>0</th>\n",
       "      <td>Amputation_of_finger</td>\n",
       "      <td>1982-10-24</td>\n",
       "      <td>Witbank</td>\n",
       "      <td>IOD Workmans Policy</td>\n",
       "      <td>0.0</td>\n",
       "    </tr>\n",
       "    <tr>\n",
       "      <th>1</th>\n",
       "      <td>Amputation_of_finger</td>\n",
       "      <td>1982-10-25</td>\n",
       "      <td>None</td>\n",
       "      <td>None</td>\n",
       "      <td>0.0</td>\n",
       "    </tr>\n",
       "    <tr>\n",
       "      <th>2</th>\n",
       "      <td>Amputation_of_finger</td>\n",
       "      <td>1982-10-26</td>\n",
       "      <td>None</td>\n",
       "      <td>None</td>\n",
       "      <td>0.0</td>\n",
       "    </tr>\n",
       "    <tr>\n",
       "      <th>3</th>\n",
       "      <td>Amputation_of_finger</td>\n",
       "      <td>1982-10-27</td>\n",
       "      <td>None</td>\n",
       "      <td>None</td>\n",
       "      <td>0.0</td>\n",
       "    </tr>\n",
       "    <tr>\n",
       "      <th>4</th>\n",
       "      <td>Amputation_of_finger</td>\n",
       "      <td>1982-10-28</td>\n",
       "      <td>None</td>\n",
       "      <td>None</td>\n",
       "      <td>0.0</td>\n",
       "    </tr>\n",
       "  </tbody>\n",
       "</table>\n",
       "</div>"
      ],
      "text/plain": [
       "       ICD10Description DateOfAccident RmaRegionDesc              Product  \\\n",
       "0  Amputation_of_finger     1982-10-24       Witbank  IOD Workmans Policy   \n",
       "1  Amputation_of_finger     1982-10-25          None                 None   \n",
       "2  Amputation_of_finger     1982-10-26          None                 None   \n",
       "3  Amputation_of_finger     1982-10-27          None                 None   \n",
       "4  Amputation_of_finger     1982-10-28          None                 None   \n",
       "\n",
       "   Sum of PaidDaysValue  \n",
       "0                   0.0  \n",
       "1                   0.0  \n",
       "2                   0.0  \n",
       "3                   0.0  \n",
       "4                   0.0  "
      ]
     },
     "execution_count": 77,
     "metadata": {},
     "output_type": "execute_result"
    }
   ],
   "source": [
    "df_final = pd.read_pickle(os.path.join(\n",
    "    root, cfg_path.data_dir.output_path, 'insurance_claims_final.pkl'))\n",
    "df_final.head()"
   ]
  },
  {
   "cell_type": "markdown",
   "id": "f23ed7fb",
   "metadata": {},
   "source": [
    "## Parameter setup"
   ]
  },
  {
   "cell_type": "code",
   "execution_count": 78,
   "metadata": {},
   "outputs": [
    {
     "name": "stdout",
     "output_type": "stream",
     "text": [
      "find_date, date_col found: ['DateOfAccident']\n"
     ]
    }
   ],
   "source": [
    "id = 'ICD10Description'\n",
    "list_unique_id = ['ICD10Description\t', 'DateOfAccident']\n",
    "list_temp = ['']\n",
    "y = 'Sum of PaidDaysValue'\n",
    "date_var = Utils.find_date(df_final)"
   ]
  },
  {
   "cell_type": "markdown",
   "metadata": {},
   "source": [
    "## Working dataframe"
   ]
  },
  {
   "cell_type": "code",
   "execution_count": 79,
   "metadata": {},
   "outputs": [
    {
     "name": "stdout",
     "output_type": "stream",
     "text": [
      "Id available ['Amputation_of_finger', 'Fracture_of_finger', 'Fatal_due_to_Accident_Any_', 'Noise_Induced_Hearing_Loss', 'Open_wound_head', 'Contusion_of_finger_s_thumb', 'Foreign_body_cornea', 'Sprain_and_strain_of_cervical_spine', 'Other_respiratory_conditions', 'Contusion_of_knee', 'Contusion_of_shoulder_upper_arm', 'Sprain_collateral_ligament_of_knee', 'Open_wound_other_parts_of_wrist_hand', 'Superficial_injuries_of_abdomen_lower_back_pelvis', 'Sprain_and_strain_of_ankle', 'Open_wound_other_parts_lower_leg', 'Superficial_injury_of_other_parts_of_head', 'Contusion_of_ankle', 'Open_wound_of_finger_s_thumb', 'Sprain_and_strain_of_lumbar_spine', 'Barotrauma_Otitic', 'Contusion_of_elbow', 'Contusion_other_parts_of_wrist_hand', 'Fracture_of_thumb', 'Open_wound_of_knee', 'Open_wound_of_back_wall_of_thorax', 'Superficial_injury_of_wrist_hand', 'Fracture_of_shaft_of_tibia', 'Contusion_of_lower_back_and_pelvis', 'Contusion_other_parts_of_foot', 'Superficial_injury_of_lip_oral_cavity', 'Open_wound_of_wrist_and_hand', 'Open_wound_of_shoulder', 'Open_wound_of_eyelid_periocular_area', 'Open_wound_forearm', 'Open_wound_of_parts_of_foot', 'Open_wound_forearm_Open_wound_of_finger_s_thumb', 'Nitrogen_oxides', 'Open_wound_of_scalp_Fracture_of_lumbar_vertebra_Fracture_of_scapula', 'Burn_of_wrist_hand', 'Fracture_of_metatarsal_s_', 'Open_wound_lower_leg', 'Open_wound_of_ear', 'Dislocation_of_shoulder_joint', 'Fracture_of_lower_end_of_tibia', 'Contusion_unspecified_parts_of_lower_leg', 'Open_wound_of_upper_arm', 'Contusion_of_thigh', 'Superficial_injury_of_chest_wall', 'Fracture_of_rib', 'Burn_of_trunk_Burn_of_shoulder_upper_limb', 'Bimalleolar_fracture_of_ankle', 'Burn_of_ankle_foot', 'Fracture_of_tooth', 'Dislocation_of_wrist', 'Open_wound_forearm_Injury_of_muscle_and_tendons', 'Amputation_of_one_toe', 'Burn_of_multiple_regions', 'Effects_of_electric_current', 'Heat_cramp', 'Open_wound_head_Multiple_open_wounds_of_forearm_Contusion_of_knee', 'Contusion_of_external_genital_organs', 'Needle_stick_injuries', 'Contusion_of_hip', 'Contusion_other_parts_of_foot_Fracture_of_toe', 'Noise_Induced_Hearing_Loss_Noise_Induced_Hearing_Loss', 'Open_wound_of_elbow', 'Fracture_of_fibula', 'Contusion_other_parts_of_wrist_hand_Contusion_of_lower_back_and_pelvis', 'Open_wound_of_scalp', 'Multiple_fractures_of_lower_leg', 'Dermatitis', 'Open_wound_of_cheek', 'Open_wound_other_parts_of_wrist_hand_Fracture_of_metacarpal', 'Contusion_other_parts_of_foot_Open_wound_of_parts_of_foot', 'Fracture_of_shaft_of_radius', 'Superficial_injury_of_lip_oral_cavity_Open_wound_of_lip_oral_cavity', 'Foreign_body_in_ear_auditory_canal_', 'Open_wound_of_neck_part_unspecified', 'Contusion_of_throat_Contusion_of_elbow', 'Blast_injury_syndrome', 'Open_wound_forearm_Open_wound_of_elbow', 'Open_wound_of_wrist_and_hand_Nitrogen_oxides', 'Contusion_of_eyeball_orbital_tissues_Crushing_injury_of_face', 'Superficial_injury_of_lower_leg_Open_wound_head_Contusion_of_hip', 'Foreign_body_in_ear_auditory_canal_Barotrauma_Otitic', 'Contusion_unspecified_parts_forearm_Contusion_of_lower_back_and_pelvis', 'Contusion_of_lower_back_and_pelvis_Contusion_of_shoulder_upper_arm_Contusion_of_hip', 'Superficial_injuries_of_abdomen_lower_back_pelvis_Open_wound_of_knee', 'Open_wound_of_neck_part_unspecified_Contusion_of_lower_back_and_pelvis', 'Amputation_of_two_or_more_fingers', 'Sprain_and_strain_of_jaw', 'Open_wound_of_eyelid_periocular_area_Contusion_of_eyeball_orbital_tissues_Open_wound_of_finger_s_thumb', 'Open_wound_of_lower_back_pelvis_Open_wound_of_hip', 'Open_wound_of_finger_s_thumb_Amputation_of_finger', 'Amputation_between_knee_and_ankle', 'Fracture_of_coccyx', 'Fracture_of_lower_end_of_radius', 'Superficial_injury_of_other_parts_of_head_Open_wound_of_lip_oral_cavity', 'Superficial_injury_of_forearm_unspecified_Contusion_other_parts_of_foot']\n"
     ]
    }
   ],
   "source": [
    "# Defining working dataframe by removing potential null values in y variable\n",
    "df = df_final.loc[~df_final[y].isnull(),].copy()\n",
    "print('Id available', list(df[id].unique()))"
   ]
  },
  {
   "cell_type": "markdown",
   "metadata": {},
   "source": [
    "# Compute intermittent indicators"
   ]
  },
  {
   "cell_type": "code",
   "execution_count": 80,
   "metadata": {},
   "outputs": [],
   "source": [
    "# Winsorizing parameters\n",
    "highest = 0.05\n",
    "lowest = 0.05\n",
    "\n",
    "# Identifying intermittent time series parameters\n",
    "perc = 0.10\n",
    "quant = 0.90"
   ]
  },
  {
   "cell_type": "markdown",
   "metadata": {},
   "source": [
    "### Choose indicator function"
   ]
  },
  {
   "cell_type": "code",
   "execution_count": 81,
   "metadata": {},
   "outputs": [],
   "source": [
    "# Applying indicator function ('compute_indicator_values' or 'enhanced_compute_indicator_values')\n",
    "func = 'enhanced_compute_indicator_values'\n",
    "df_scoring = df.loc[:, [id, y]].groupby(id).apply(lambda x: Intermittent.call_intermittent_function(func, np.array(x[y]), threshold, perc, quant, highest, lowest)).reset_index(level=id)"
   ]
  },
  {
   "cell_type": "markdown",
   "metadata": {},
   "source": [
    "## Profiling intermittent time series"
   ]
  },
  {
   "cell_type": "code",
   "execution_count": 89,
   "metadata": {},
   "outputs": [
    {
     "name": "stdout",
     "output_type": "stream",
     "text": [
      "List of nan ids ['Blast_injury_syndrome', 'Effects_of_electric_current', 'Open_wound_forearm_Injury_of_muscle_and_tendons', 'Needle_stick_injuries', 'Heat_cramp', 'Open_wound_forearm_Open_wound_of_finger_s_thumb', 'Open_wound_of_eyelid_periocular_area_Contusion_of_eyeball_orbital_tissues_Open_wound_of_finger_s_thumb', 'Burn_of_trunk_Burn_of_shoulder_upper_limb', 'Contusion_unspecified_parts_forearm_Contusion_of_lower_back_and_pelvis', 'Superficial_injury_of_other_parts_of_head_Open_wound_of_lip_oral_cavity', 'Foreign_body_in_ear_auditory_canal_Barotrauma_Otitic', 'Contusion_of_throat_Contusion_of_elbow', 'Dermatitis', 'Open_wound_of_neck_part_unspecified_Contusion_of_lower_back_and_pelvis', 'Contusion_of_eyeball_orbital_tissues_Crushing_injury_of_face', 'Superficial_injury_of_lower_leg_Open_wound_head_Contusion_of_hip', 'Superficial_injury_of_forearm_unspecified_Contusion_other_parts_of_foot', 'Open_wound_of_wrist_and_hand_Nitrogen_oxides', 'Open_wound_of_lower_back_pelvis_Open_wound_of_hip', 'Open_wound_head_Multiple_open_wounds_of_forearm_Contusion_of_knee', 'Open_wound_of_scalp_Fracture_of_lumbar_vertebra_Fracture_of_scapula', 'Contusion_other_parts_of_wrist_hand_Contusion_of_lower_back_and_pelvis', 'Fatal_due_to_Accident_Any_', 'Contusion_of_lower_back_and_pelvis_Contusion_of_shoulder_upper_arm_Contusion_of_hip', 'Superficial_injuries_of_abdomen_lower_back_pelvis_Open_wound_of_knee']\n",
      "classify_intermittent: no regular ids\n",
      "classify_intermittent: constant_zero ids 31\n",
      "classify_intermittent: no constant ids\n",
      "classify_intermittent: no spikes ids\n",
      "classify_intermittent: lumpy 4\n",
      "classify_intermittent: erratic ids 40\n",
      "classify_intermittent: no unforecastable_time ids\n",
      "classify_intermittent: no unforecastable_quantity ids\n",
      "ICD10Description regular []\n",
      "ICD10Description constant_zero ['Amputation_between_knee_and_ankle', 'Amputation_of_one_toe', 'Amputation_of_two_or_more_fingers', 'Burn_of_ankle_foot', 'Burn_of_multiple_regions', 'Burn_of_wrist_hand', 'Contusion_of_elbow', 'Contusion_of_external_genital_organs', 'Contusion_other_parts_of_foot_Fracture_of_toe', 'Contusion_other_parts_of_foot_Open_wound_of_parts_of_foot', 'Dislocation_of_wrist', 'Foreign_body_in_ear_auditory_canal_', 'Fracture_of_coccyx', 'Fracture_of_lower_end_of_radius', 'Fracture_of_lower_end_of_tibia', 'Fracture_of_rib', 'Fracture_of_tooth', 'Multiple_fractures_of_lower_leg', 'Nitrogen_oxides', 'Noise_Induced_Hearing_Loss_Noise_Induced_Hearing_Loss', 'Open_wound_forearm_Open_wound_of_elbow', 'Open_wound_of_back_wall_of_thorax', 'Open_wound_of_ear', 'Open_wound_of_finger_s_thumb_Amputation_of_finger', 'Open_wound_of_neck_part_unspecified', 'Open_wound_other_parts_of_wrist_hand_Fracture_of_metacarpal', 'Other_respiratory_conditions', 'Sprain_and_strain_of_cervical_spine', 'Sprain_and_strain_of_jaw', 'Superficial_injury_of_lip_oral_cavity', 'Superficial_injury_of_lip_oral_cavity_Open_wound_of_lip_oral_cavity']\n",
      "ICD10Description constant []\n",
      "ICD10Description spikes []\n",
      "ICD10Description lumpy ['Contusion_of_shoulder_upper_arm', 'Foreign_body_cornea', 'Sprain_and_strain_of_ankle', 'Sprain_and_strain_of_lumbar_spine']\n",
      "ICD10Description erratic ['Amputation_of_finger', 'Barotrauma_Otitic', 'Bimalleolar_fracture_of_ankle', 'Contusion_of_ankle', 'Contusion_of_finger_s_thumb', 'Contusion_of_hip', 'Contusion_of_knee', 'Contusion_of_lower_back_and_pelvis', 'Contusion_of_thigh', 'Contusion_other_parts_of_foot', 'Contusion_other_parts_of_wrist_hand', 'Contusion_unspecified_parts_of_lower_leg', 'Dislocation_of_shoulder_joint', 'Fracture_of_fibula', 'Fracture_of_finger', 'Fracture_of_metatarsal_s_', 'Fracture_of_shaft_of_radius', 'Fracture_of_shaft_of_tibia', 'Fracture_of_thumb', 'Noise_Induced_Hearing_Loss', 'Open_wound_forearm', 'Open_wound_head', 'Open_wound_lower_leg', 'Open_wound_of_cheek', 'Open_wound_of_elbow', 'Open_wound_of_eyelid_periocular_area', 'Open_wound_of_finger_s_thumb', 'Open_wound_of_knee', 'Open_wound_of_parts_of_foot', 'Open_wound_of_scalp', 'Open_wound_of_shoulder', 'Open_wound_of_upper_arm', 'Open_wound_of_wrist_and_hand', 'Open_wound_other_parts_lower_leg', 'Open_wound_other_parts_of_wrist_hand', 'Sprain_collateral_ligament_of_knee', 'Superficial_injuries_of_abdomen_lower_back_pelvis', 'Superficial_injury_of_chest_wall', 'Superficial_injury_of_other_parts_of_head', 'Superficial_injury_of_wrist_hand']\n",
      "ICD10Description unforecastable_time []\n",
      "ICD10Description unforecastable_quantity []\n"
     ]
    }
   ],
   "source": [
    "# Excluding the ids for which the indicators are np.NaN\n",
    "df_scoring_no_nan = df_scoring.dropna()\n",
    "list_nan = list(set(df_scoring[id]) - set(df_scoring_no_nan[id]))\n",
    "print('List of nan ids', list_nan)\n",
    "\n",
    "# Classify intermittent TS -> these parameters need to be adjusted to each type of data you are dealing with\n",
    "thres_cv2_constant = 0.01\n",
    "thres_cv2 = 0.2\n",
    "thres_adi = 1.2\n",
    "thres_sddi = 6.0\n",
    "min_time_cons = 25\n",
    "type = df_scoring_no_nan['type'].unique()[0]\n",
    "\n",
    "df_profiling = Intermittent.classify_intermittent(df_scoring_no_nan, type, thres_cv2_constant, thres_cv2, thres_adi, thres_sddi, min_time_cons)\n",
    "\n",
    "# Dictionary\n",
    "list_of_profiles = ['regular', 'constant_zero', 'constant', 'spikes',\n",
    "                    'lumpy', 'erratic', 'unforecastable_time', 'unforecastable_quantity']\n",
    "dict_profiling = {}\n",
    "for c in list_of_profiles:\n",
    "    dict_profiling[c] = list(\n",
    "        df_profiling.loc[df_profiling.profile == c, id].unique())\n",
    "    print(id, c, dict_profiling[c])\n"
   ]
  },
  {
   "cell_type": "markdown",
   "metadata": {},
   "source": [
    "### Plotting profiled series"
   ]
  },
  {
   "cell_type": "code",
   "execution_count": 90,
   "metadata": {},
   "outputs": [
    {
     "name": "stdout",
     "output_type": "stream",
     "text": [
      "Plotting id: Sprain_and_strain_of_cervical_spine as 1 of 31\n",
      "find_date, date_col found: ['DateOfAccident']\n",
      "sliding_line_plot: plotting Sum of paiddaysvalue ICD10Description Sprain_and_strain_of_cervical_spine\n",
      "Creation of the directory failed or already present c:\\Users\\mabellani\\OneDrive - Microsoft\\Documents\\REPOSITORY\\dstoolkit-forecasting\\Data/Plots\\constant_zero\n",
      "Plotting id: Other_respiratory_conditions as 2 of 31\n",
      "find_date, date_col found: ['DateOfAccident']\n",
      "sliding_line_plot: plotting Sum of paiddaysvalue ICD10Description Other_respiratory_conditions\n",
      "Creation of the directory failed or already present c:\\Users\\mabellani\\OneDrive - Microsoft\\Documents\\REPOSITORY\\dstoolkit-forecasting\\Data/Plots\\constant_zero\n",
      "Plotting id: Contusion_of_elbow as 3 of 31\n",
      "find_date, date_col found: ['DateOfAccident']\n",
      "sliding_line_plot: plotting Sum of paiddaysvalue ICD10Description Contusion_of_elbow\n",
      "Creation of the directory failed or already present c:\\Users\\mabellani\\OneDrive - Microsoft\\Documents\\REPOSITORY\\dstoolkit-forecasting\\Data/Plots\\constant_zero\n",
      "Plotting id: Open_wound_of_back_wall_of_thorax as 4 of 31\n",
      "find_date, date_col found: ['DateOfAccident']\n",
      "sliding_line_plot: plotting Sum of paiddaysvalue ICD10Description Open_wound_of_back_wall_of_thorax\n",
      "Creation of the directory failed or already present c:\\Users\\mabellani\\OneDrive - Microsoft\\Documents\\REPOSITORY\\dstoolkit-forecasting\\Data/Plots\\constant_zero\n",
      "Plotting id: Superficial_injury_of_lip_oral_cavity as 5 of 31\n",
      "find_date, date_col found: ['DateOfAccident']\n",
      "sliding_line_plot: plotting Sum of paiddaysvalue ICD10Description Superficial_injury_of_lip_oral_cavity\n",
      "Creation of the directory failed or already present c:\\Users\\mabellani\\OneDrive - Microsoft\\Documents\\REPOSITORY\\dstoolkit-forecasting\\Data/Plots\\constant_zero\n",
      "Plotting id: Nitrogen_oxides as 6 of 31\n",
      "find_date, date_col found: ['DateOfAccident']\n",
      "sliding_line_plot: plotting Sum of paiddaysvalue ICD10Description Nitrogen_oxides\n",
      "Creation of the directory failed or already present c:\\Users\\mabellani\\OneDrive - Microsoft\\Documents\\REPOSITORY\\dstoolkit-forecasting\\Data/Plots\\constant_zero\n",
      "Plotting id: Burn_of_wrist_hand as 7 of 31\n",
      "find_date, date_col found: ['DateOfAccident']\n",
      "sliding_line_plot: plotting Sum of paiddaysvalue ICD10Description Burn_of_wrist_hand\n",
      "Creation of the directory failed or already present c:\\Users\\mabellani\\OneDrive - Microsoft\\Documents\\REPOSITORY\\dstoolkit-forecasting\\Data/Plots\\constant_zero\n",
      "Plotting id: Open_wound_of_ear as 8 of 31\n",
      "find_date, date_col found: ['DateOfAccident']\n",
      "sliding_line_plot: plotting Sum of paiddaysvalue ICD10Description Open_wound_of_ear\n",
      "Creation of the directory failed or already present c:\\Users\\mabellani\\OneDrive - Microsoft\\Documents\\REPOSITORY\\dstoolkit-forecasting\\Data/Plots\\constant_zero\n",
      "Plotting id: Fracture_of_lower_end_of_tibia as 9 of 31\n",
      "find_date, date_col found: ['DateOfAccident']\n",
      "sliding_line_plot: plotting Sum of paiddaysvalue ICD10Description Fracture_of_lower_end_of_tibia\n",
      "Creation of the directory failed or already present c:\\Users\\mabellani\\OneDrive - Microsoft\\Documents\\REPOSITORY\\dstoolkit-forecasting\\Data/Plots\\constant_zero\n",
      "Plotting id: Fracture_of_rib as 10 of 31\n",
      "find_date, date_col found: ['DateOfAccident']\n",
      "sliding_line_plot: plotting Sum of paiddaysvalue ICD10Description Fracture_of_rib\n",
      "Creation of the directory failed or already present c:\\Users\\mabellani\\OneDrive - Microsoft\\Documents\\REPOSITORY\\dstoolkit-forecasting\\Data/Plots\\constant_zero\n",
      "Plotting id: Burn_of_ankle_foot as 11 of 31\n",
      "find_date, date_col found: ['DateOfAccident']\n",
      "sliding_line_plot: plotting Sum of paiddaysvalue ICD10Description Burn_of_ankle_foot\n",
      "Creation of the directory failed or already present c:\\Users\\mabellani\\OneDrive - Microsoft\\Documents\\REPOSITORY\\dstoolkit-forecasting\\Data/Plots\\constant_zero\n",
      "Plotting id: Fracture_of_tooth as 12 of 31\n",
      "find_date, date_col found: ['DateOfAccident']\n",
      "sliding_line_plot: plotting Sum of paiddaysvalue ICD10Description Fracture_of_tooth\n",
      "Creation of the directory failed or already present c:\\Users\\mabellani\\OneDrive - Microsoft\\Documents\\REPOSITORY\\dstoolkit-forecasting\\Data/Plots\\constant_zero\n",
      "Plotting id: Dislocation_of_wrist as 13 of 31\n",
      "find_date, date_col found: ['DateOfAccident']\n",
      "sliding_line_plot: plotting Sum of paiddaysvalue ICD10Description Dislocation_of_wrist\n",
      "Creation of the directory failed or already present c:\\Users\\mabellani\\OneDrive - Microsoft\\Documents\\REPOSITORY\\dstoolkit-forecasting\\Data/Plots\\constant_zero\n",
      "Plotting id: Amputation_of_one_toe as 14 of 31\n",
      "find_date, date_col found: ['DateOfAccident']\n",
      "sliding_line_plot: plotting Sum of paiddaysvalue ICD10Description Amputation_of_one_toe\n",
      "Creation of the directory failed or already present c:\\Users\\mabellani\\OneDrive - Microsoft\\Documents\\REPOSITORY\\dstoolkit-forecasting\\Data/Plots\\constant_zero\n",
      "Plotting id: Burn_of_multiple_regions as 15 of 31\n",
      "find_date, date_col found: ['DateOfAccident']\n",
      "sliding_line_plot: plotting Sum of paiddaysvalue ICD10Description Burn_of_multiple_regions\n",
      "Creation of the directory failed or already present c:\\Users\\mabellani\\OneDrive - Microsoft\\Documents\\REPOSITORY\\dstoolkit-forecasting\\Data/Plots\\constant_zero\n",
      "Plotting id: Contusion_of_external_genital_organs as 16 of 31\n",
      "find_date, date_col found: ['DateOfAccident']\n",
      "sliding_line_plot: plotting Sum of paiddaysvalue ICD10Description Contusion_of_external_genital_organs\n",
      "Creation of the directory failed or already present c:\\Users\\mabellani\\OneDrive - Microsoft\\Documents\\REPOSITORY\\dstoolkit-forecasting\\Data/Plots\\constant_zero\n",
      "Plotting id: Contusion_other_parts_of_foot_Fracture_of_toe as 17 of 31\n",
      "find_date, date_col found: ['DateOfAccident']\n",
      "sliding_line_plot: plotting Sum of paiddaysvalue ICD10Description Contusion_other_parts_of_foot_Fracture_of_toe\n",
      "Creation of the directory failed or already present c:\\Users\\mabellani\\OneDrive - Microsoft\\Documents\\REPOSITORY\\dstoolkit-forecasting\\Data/Plots\\constant_zero\n",
      "Plotting id: Noise_Induced_Hearing_Loss_Noise_Induced_Hearing_Loss as 18 of 31\n",
      "find_date, date_col found: ['DateOfAccident']\n",
      "sliding_line_plot: plotting Sum of paiddaysvalue ICD10Description Noise_Induced_Hearing_Loss_Noise_Induced_Hearing_Loss\n",
      "Creation of the directory failed or already present c:\\Users\\mabellani\\OneDrive - Microsoft\\Documents\\REPOSITORY\\dstoolkit-forecasting\\Data/Plots\\constant_zero\n",
      "Plotting id: Multiple_fractures_of_lower_leg as 19 of 31\n",
      "find_date, date_col found: ['DateOfAccident']\n",
      "sliding_line_plot: plotting Sum of paiddaysvalue ICD10Description Multiple_fractures_of_lower_leg\n",
      "Creation of the directory failed or already present c:\\Users\\mabellani\\OneDrive - Microsoft\\Documents\\REPOSITORY\\dstoolkit-forecasting\\Data/Plots\\constant_zero\n",
      "Plotting id: Open_wound_other_parts_of_wrist_hand_Fracture_of_metacarpal as 20 of 31\n",
      "find_date, date_col found: ['DateOfAccident']\n",
      "sliding_line_plot: plotting Sum of paiddaysvalue ICD10Description Open_wound_other_parts_of_wrist_hand_Fracture_of_metacarpal\n",
      "Creation of the directory failed or already present c:\\Users\\mabellani\\OneDrive - Microsoft\\Documents\\REPOSITORY\\dstoolkit-forecasting\\Data/Plots\\constant_zero\n",
      "Plotting id: Contusion_other_parts_of_foot_Open_wound_of_parts_of_foot as 21 of 31\n",
      "find_date, date_col found: ['DateOfAccident']\n",
      "sliding_line_plot: plotting Sum of paiddaysvalue ICD10Description Contusion_other_parts_of_foot_Open_wound_of_parts_of_foot\n",
      "Creation of the directory failed or already present c:\\Users\\mabellani\\OneDrive - Microsoft\\Documents\\REPOSITORY\\dstoolkit-forecasting\\Data/Plots\\constant_zero\n",
      "Plotting id: Superficial_injury_of_lip_oral_cavity_Open_wound_of_lip_oral_cavity as 22 of 31\n",
      "find_date, date_col found: ['DateOfAccident']\n",
      "sliding_line_plot: plotting Sum of paiddaysvalue ICD10Description Superficial_injury_of_lip_oral_cavity_Open_wound_of_lip_oral_cavity\n",
      "Creation of the directory failed or already present c:\\Users\\mabellani\\OneDrive - Microsoft\\Documents\\REPOSITORY\\dstoolkit-forecasting\\Data/Plots\\constant_zero\n",
      "Plotting id: Foreign_body_in_ear_auditory_canal_ as 23 of 31\n",
      "find_date, date_col found: ['DateOfAccident']\n",
      "sliding_line_plot: plotting Sum of paiddaysvalue ICD10Description Foreign_body_in_ear_auditory_canal_\n",
      "Creation of the directory failed or already present c:\\Users\\mabellani\\OneDrive - Microsoft\\Documents\\REPOSITORY\\dstoolkit-forecasting\\Data/Plots\\constant_zero\n",
      "Plotting id: Open_wound_of_neck_part_unspecified as 24 of 31\n",
      "find_date, date_col found: ['DateOfAccident']\n",
      "sliding_line_plot: plotting Sum of paiddaysvalue ICD10Description Open_wound_of_neck_part_unspecified\n",
      "Creation of the directory failed or already present c:\\Users\\mabellani\\OneDrive - Microsoft\\Documents\\REPOSITORY\\dstoolkit-forecasting\\Data/Plots\\constant_zero\n",
      "Plotting id: Open_wound_forearm_Open_wound_of_elbow as 25 of 31\n",
      "find_date, date_col found: ['DateOfAccident']\n",
      "sliding_line_plot: plotting Sum of paiddaysvalue ICD10Description Open_wound_forearm_Open_wound_of_elbow\n",
      "Creation of the directory failed or already present c:\\Users\\mabellani\\OneDrive - Microsoft\\Documents\\REPOSITORY\\dstoolkit-forecasting\\Data/Plots\\constant_zero\n",
      "Plotting id: Amputation_of_two_or_more_fingers as 26 of 31\n",
      "find_date, date_col found: ['DateOfAccident']\n",
      "sliding_line_plot: plotting Sum of paiddaysvalue ICD10Description Amputation_of_two_or_more_fingers\n",
      "Creation of the directory failed or already present c:\\Users\\mabellani\\OneDrive - Microsoft\\Documents\\REPOSITORY\\dstoolkit-forecasting\\Data/Plots\\constant_zero\n",
      "Plotting id: Sprain_and_strain_of_jaw as 27 of 31\n",
      "find_date, date_col found: ['DateOfAccident']\n",
      "sliding_line_plot: plotting Sum of paiddaysvalue ICD10Description Sprain_and_strain_of_jaw\n",
      "Creation of the directory failed or already present c:\\Users\\mabellani\\OneDrive - Microsoft\\Documents\\REPOSITORY\\dstoolkit-forecasting\\Data/Plots\\constant_zero\n",
      "Plotting id: Open_wound_of_finger_s_thumb_Amputation_of_finger as 28 of 31\n",
      "find_date, date_col found: ['DateOfAccident']\n",
      "sliding_line_plot: plotting Sum of paiddaysvalue ICD10Description Open_wound_of_finger_s_thumb_Amputation_of_finger\n",
      "Creation of the directory failed or already present c:\\Users\\mabellani\\OneDrive - Microsoft\\Documents\\REPOSITORY\\dstoolkit-forecasting\\Data/Plots\\constant_zero\n",
      "Plotting id: Amputation_between_knee_and_ankle as 29 of 31\n",
      "find_date, date_col found: ['DateOfAccident']\n",
      "sliding_line_plot: plotting Sum of paiddaysvalue ICD10Description Amputation_between_knee_and_ankle\n",
      "Creation of the directory failed or already present c:\\Users\\mabellani\\OneDrive - Microsoft\\Documents\\REPOSITORY\\dstoolkit-forecasting\\Data/Plots\\constant_zero\n",
      "Plotting id: Fracture_of_coccyx as 30 of 31\n",
      "find_date, date_col found: ['DateOfAccident']\n",
      "sliding_line_plot: plotting Sum of paiddaysvalue ICD10Description Fracture_of_coccyx\n",
      "Creation of the directory failed or already present c:\\Users\\mabellani\\OneDrive - Microsoft\\Documents\\REPOSITORY\\dstoolkit-forecasting\\Data/Plots\\constant_zero\n",
      "Plotting id: Fracture_of_lower_end_of_radius as 31 of 31\n",
      "find_date, date_col found: ['DateOfAccident']\n",
      "sliding_line_plot: plotting Sum of paiddaysvalue ICD10Description Fracture_of_lower_end_of_radius\n",
      "Creation of the directory failed or already present c:\\Users\\mabellani\\OneDrive - Microsoft\\Documents\\REPOSITORY\\dstoolkit-forecasting\\Data/Plots\\constant_zero\n",
      "Plotting id: Foreign_body_cornea as 1 of 4\n",
      "find_date, date_col found: ['DateOfAccident']\n",
      "sliding_line_plot: plotting Sum of paiddaysvalue ICD10Description Foreign_body_cornea\n",
      "Creation of the directory failed or already present c:\\Users\\mabellani\\OneDrive - Microsoft\\Documents\\REPOSITORY\\dstoolkit-forecasting\\Data/Plots\\lumpy\n",
      "Plotting id: Contusion_of_shoulder_upper_arm as 2 of 4\n",
      "find_date, date_col found: ['DateOfAccident']\n",
      "sliding_line_plot: plotting Sum of paiddaysvalue ICD10Description Contusion_of_shoulder_upper_arm\n",
      "Creation of the directory failed or already present c:\\Users\\mabellani\\OneDrive - Microsoft\\Documents\\REPOSITORY\\dstoolkit-forecasting\\Data/Plots\\lumpy\n",
      "Plotting id: Sprain_and_strain_of_ankle as 3 of 4\n",
      "find_date, date_col found: ['DateOfAccident']\n",
      "sliding_line_plot: plotting Sum of paiddaysvalue ICD10Description Sprain_and_strain_of_ankle\n",
      "Creation of the directory failed or already present c:\\Users\\mabellani\\OneDrive - Microsoft\\Documents\\REPOSITORY\\dstoolkit-forecasting\\Data/Plots\\lumpy\n",
      "Plotting id: Sprain_and_strain_of_lumbar_spine as 4 of 4\n",
      "find_date, date_col found: ['DateOfAccident']\n",
      "sliding_line_plot: plotting Sum of paiddaysvalue ICD10Description Sprain_and_strain_of_lumbar_spine\n",
      "Creation of the directory failed or already present c:\\Users\\mabellani\\OneDrive - Microsoft\\Documents\\REPOSITORY\\dstoolkit-forecasting\\Data/Plots\\lumpy\n",
      "Plotting id: Amputation_of_finger as 1 of 40\n",
      "find_date, date_col found: ['DateOfAccident']\n",
      "sliding_line_plot: plotting Sum of paiddaysvalue ICD10Description Amputation_of_finger\n",
      "Creation of the directory failed or already present c:\\Users\\mabellani\\OneDrive - Microsoft\\Documents\\REPOSITORY\\dstoolkit-forecasting\\Data/Plots\\erratic\n",
      "Plotting id: Fracture_of_finger as 2 of 40\n",
      "find_date, date_col found: ['DateOfAccident']\n",
      "sliding_line_plot: plotting Sum of paiddaysvalue ICD10Description Fracture_of_finger\n",
      "Creation of the directory failed or already present c:\\Users\\mabellani\\OneDrive - Microsoft\\Documents\\REPOSITORY\\dstoolkit-forecasting\\Data/Plots\\erratic\n",
      "Plotting id: Noise_Induced_Hearing_Loss as 3 of 40\n",
      "find_date, date_col found: ['DateOfAccident']\n",
      "sliding_line_plot: plotting Sum of paiddaysvalue ICD10Description Noise_Induced_Hearing_Loss\n",
      "Creation of the directory failed or already present c:\\Users\\mabellani\\OneDrive - Microsoft\\Documents\\REPOSITORY\\dstoolkit-forecasting\\Data/Plots\\erratic\n",
      "Plotting id: Open_wound_head as 4 of 40\n",
      "find_date, date_col found: ['DateOfAccident']\n",
      "sliding_line_plot: plotting Sum of paiddaysvalue ICD10Description Open_wound_head\n",
      "Creation of the directory failed or already present c:\\Users\\mabellani\\OneDrive - Microsoft\\Documents\\REPOSITORY\\dstoolkit-forecasting\\Data/Plots\\erratic\n",
      "Plotting id: Contusion_of_finger_s_thumb as 5 of 40\n",
      "find_date, date_col found: ['DateOfAccident']\n",
      "sliding_line_plot: plotting Sum of paiddaysvalue ICD10Description Contusion_of_finger_s_thumb\n",
      "Creation of the directory failed or already present c:\\Users\\mabellani\\OneDrive - Microsoft\\Documents\\REPOSITORY\\dstoolkit-forecasting\\Data/Plots\\erratic\n",
      "Plotting id: Contusion_of_knee as 6 of 40\n",
      "find_date, date_col found: ['DateOfAccident']\n",
      "sliding_line_plot: plotting Sum of paiddaysvalue ICD10Description Contusion_of_knee\n",
      "Creation of the directory failed or already present c:\\Users\\mabellani\\OneDrive - Microsoft\\Documents\\REPOSITORY\\dstoolkit-forecasting\\Data/Plots\\erratic\n",
      "Plotting id: Sprain_collateral_ligament_of_knee as 7 of 40\n",
      "find_date, date_col found: ['DateOfAccident']\n",
      "sliding_line_plot: plotting Sum of paiddaysvalue ICD10Description Sprain_collateral_ligament_of_knee\n",
      "Creation of the directory failed or already present c:\\Users\\mabellani\\OneDrive - Microsoft\\Documents\\REPOSITORY\\dstoolkit-forecasting\\Data/Plots\\erratic\n",
      "Plotting id: Open_wound_other_parts_of_wrist_hand as 8 of 40\n",
      "find_date, date_col found: ['DateOfAccident']\n",
      "sliding_line_plot: plotting Sum of paiddaysvalue ICD10Description Open_wound_other_parts_of_wrist_hand\n",
      "Creation of the directory failed or already present c:\\Users\\mabellani\\OneDrive - Microsoft\\Documents\\REPOSITORY\\dstoolkit-forecasting\\Data/Plots\\erratic\n",
      "Plotting id: Superficial_injuries_of_abdomen_lower_back_pelvis as 9 of 40\n",
      "find_date, date_col found: ['DateOfAccident']\n",
      "sliding_line_plot: plotting Sum of paiddaysvalue ICD10Description Superficial_injuries_of_abdomen_lower_back_pelvis\n",
      "Creation of the directory failed or already present c:\\Users\\mabellani\\OneDrive - Microsoft\\Documents\\REPOSITORY\\dstoolkit-forecasting\\Data/Plots\\erratic\n",
      "Plotting id: Open_wound_other_parts_lower_leg as 10 of 40\n",
      "find_date, date_col found: ['DateOfAccident']\n",
      "sliding_line_plot: plotting Sum of paiddaysvalue ICD10Description Open_wound_other_parts_lower_leg\n",
      "Creation of the directory failed or already present c:\\Users\\mabellani\\OneDrive - Microsoft\\Documents\\REPOSITORY\\dstoolkit-forecasting\\Data/Plots\\erratic\n",
      "Plotting id: Superficial_injury_of_other_parts_of_head as 11 of 40\n",
      "find_date, date_col found: ['DateOfAccident']\n",
      "sliding_line_plot: plotting Sum of paiddaysvalue ICD10Description Superficial_injury_of_other_parts_of_head\n",
      "Creation of the directory failed or already present c:\\Users\\mabellani\\OneDrive - Microsoft\\Documents\\REPOSITORY\\dstoolkit-forecasting\\Data/Plots\\erratic\n",
      "Plotting id: Contusion_of_ankle as 12 of 40\n",
      "find_date, date_col found: ['DateOfAccident']\n",
      "sliding_line_plot: plotting Sum of paiddaysvalue ICD10Description Contusion_of_ankle\n",
      "Creation of the directory failed or already present c:\\Users\\mabellani\\OneDrive - Microsoft\\Documents\\REPOSITORY\\dstoolkit-forecasting\\Data/Plots\\erratic\n",
      "Plotting id: Open_wound_of_finger_s_thumb as 13 of 40\n",
      "find_date, date_col found: ['DateOfAccident']\n",
      "sliding_line_plot: plotting Sum of paiddaysvalue ICD10Description Open_wound_of_finger_s_thumb\n",
      "Creation of the directory failed or already present c:\\Users\\mabellani\\OneDrive - Microsoft\\Documents\\REPOSITORY\\dstoolkit-forecasting\\Data/Plots\\erratic\n",
      "Plotting id: Barotrauma_Otitic as 14 of 40\n",
      "find_date, date_col found: ['DateOfAccident']\n",
      "sliding_line_plot: plotting Sum of paiddaysvalue ICD10Description Barotrauma_Otitic\n",
      "Creation of the directory failed or already present c:\\Users\\mabellani\\OneDrive - Microsoft\\Documents\\REPOSITORY\\dstoolkit-forecasting\\Data/Plots\\erratic\n",
      "Plotting id: Contusion_other_parts_of_wrist_hand as 15 of 40\n",
      "find_date, date_col found: ['DateOfAccident']\n",
      "sliding_line_plot: plotting Sum of paiddaysvalue ICD10Description Contusion_other_parts_of_wrist_hand\n",
      "Creation of the directory failed or already present c:\\Users\\mabellani\\OneDrive - Microsoft\\Documents\\REPOSITORY\\dstoolkit-forecasting\\Data/Plots\\erratic\n",
      "Plotting id: Fracture_of_thumb as 16 of 40\n",
      "find_date, date_col found: ['DateOfAccident']\n",
      "sliding_line_plot: plotting Sum of paiddaysvalue ICD10Description Fracture_of_thumb\n",
      "Creation of the directory failed or already present c:\\Users\\mabellani\\OneDrive - Microsoft\\Documents\\REPOSITORY\\dstoolkit-forecasting\\Data/Plots\\erratic\n",
      "Plotting id: Open_wound_of_knee as 17 of 40\n",
      "find_date, date_col found: ['DateOfAccident']\n",
      "sliding_line_plot: plotting Sum of paiddaysvalue ICD10Description Open_wound_of_knee\n",
      "Creation of the directory failed or already present c:\\Users\\mabellani\\OneDrive - Microsoft\\Documents\\REPOSITORY\\dstoolkit-forecasting\\Data/Plots\\erratic\n",
      "Plotting id: Superficial_injury_of_wrist_hand as 18 of 40\n",
      "find_date, date_col found: ['DateOfAccident']\n",
      "sliding_line_plot: plotting Sum of paiddaysvalue ICD10Description Superficial_injury_of_wrist_hand\n",
      "Creation of the directory failed or already present c:\\Users\\mabellani\\OneDrive - Microsoft\\Documents\\REPOSITORY\\dstoolkit-forecasting\\Data/Plots\\erratic\n",
      "Plotting id: Fracture_of_shaft_of_tibia as 19 of 40\n",
      "find_date, date_col found: ['DateOfAccident']\n",
      "sliding_line_plot: plotting Sum of paiddaysvalue ICD10Description Fracture_of_shaft_of_tibia\n",
      "Creation of the directory failed or already present c:\\Users\\mabellani\\OneDrive - Microsoft\\Documents\\REPOSITORY\\dstoolkit-forecasting\\Data/Plots\\erratic\n",
      "Plotting id: Contusion_of_lower_back_and_pelvis as 20 of 40\n",
      "find_date, date_col found: ['DateOfAccident']\n",
      "sliding_line_plot: plotting Sum of paiddaysvalue ICD10Description Contusion_of_lower_back_and_pelvis\n",
      "Creation of the directory failed or already present c:\\Users\\mabellani\\OneDrive - Microsoft\\Documents\\REPOSITORY\\dstoolkit-forecasting\\Data/Plots\\erratic\n",
      "Plotting id: Contusion_other_parts_of_foot as 21 of 40\n",
      "find_date, date_col found: ['DateOfAccident']\n",
      "sliding_line_plot: plotting Sum of paiddaysvalue ICD10Description Contusion_other_parts_of_foot\n",
      "Creation of the directory failed or already present c:\\Users\\mabellani\\OneDrive - Microsoft\\Documents\\REPOSITORY\\dstoolkit-forecasting\\Data/Plots\\erratic\n",
      "Plotting id: Open_wound_of_wrist_and_hand as 22 of 40\n",
      "find_date, date_col found: ['DateOfAccident']\n"
     ]
    }
   ],
   "source": [
    "for profile in list_of_profiles:\n",
    "    df_to_plot = df.loc[df[id].isin(list(dict_profiling[profile])), ].copy()\n",
    "    count = 1\n",
    "    for i in list(df_to_plot[id].unique()):\n",
    "        print('Plotting id:', i, 'as', count, 'of',\n",
    "              len(list(df_to_plot[id].unique())))\n",
    "        plot = Plots.sliding_line_plot(df_to_plot, y, id, i, chart_title=\"\")\n",
    "        folder_name = os.path.join(root, cfg_path.data_dir.plot_path, profile)\n",
    "        Utils.create_folder_tree(folder_name)\n",
    "        plot.write_html(os.path.join(folder_name, id + '_' + str(i) + '_profile_' + profile + \".html\"))\n",
    "        count = count + 1\n"
   ]
  },
  {
   "cell_type": "markdown",
   "metadata": {},
   "source": [
    "# Saving"
   ]
  },
  {
   "cell_type": "code",
   "execution_count": 61,
   "metadata": {},
   "outputs": [],
   "source": [
    "# create a binary pickle file \n",
    "f = open(os.path.join(root, cfg_path.data_dir.output_path, 'dict_profiling.pkl'),\"wb\")\n",
    "# write the python object (dict) to pickle file\n",
    "pickle.dump(dict_profiling,f)\n",
    "# close file\n",
    "f.close()"
   ]
  }
 ],
 "metadata": {
  "interpreter": {
   "hash": "2b8f5b14411d0017ed363cef4929504a7281087d06f1b18c01da6e951b937e80"
  },
  "kernelspec": {
   "display_name": "Python 3.7.7 ('forecasting_energy')",
   "language": "python",
   "name": "python3"
  },
  "language_info": {
   "codemirror_mode": {
    "name": "ipython",
    "version": 3
   },
   "file_extension": ".py",
   "mimetype": "text/x-python",
   "name": "python",
   "nbconvert_exporter": "python",
   "pygments_lexer": "ipython3",
   "version": "3.7.7"
  },
  "orig_nbformat": 4
 },
 "nbformat": 4,
 "nbformat_minor": 2
}
