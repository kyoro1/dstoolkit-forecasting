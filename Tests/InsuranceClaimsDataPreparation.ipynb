{
  "cells": [
    {
      "cell_type": "markdown",
      "id": "dc3e4402",
      "metadata": {},
      "source": [
        "# Implementation"
      ]
    },
    {
      "cell_type": "markdown",
      "id": "sWbXCGozBRNW",
      "metadata": {
        "id": "sWbXCGozBRNW"
      },
      "source": [
        "## Packages"
      ]
    },
    {
      "cell_type": "code",
      "execution_count": null,
      "id": "kmxpysFu7zjH",
      "metadata": {
        "colab": {
          "base_uri": "https://localhost:8080/"
        },
        "id": "kmxpysFu7zjH",
        "outputId": "db2717d5-22be-4fa8-99fb-3f9ea90e7e1b"
      },
      "outputs": [],
      "source": [
        "# data elaboration functions\n",
        "import pandas as pd\n",
        "import string\n",
        "import numpy as np\n",
        "\n",
        "# datetime functions\n",
        "import datetime as dt\n",
        "\n",
        "# file management functions\n",
        "import os\n",
        "import sys\n",
        "import opendatasets as od\n",
        "import pickle\n",
        "from pathlib import Path\n",
        "\n",
        "# plot functions\n",
        "import matplotlib.pyplot as plt\n",
        "%matplotlib inline\n",
        "\n",
        "# data science functions\n",
        "import xgboost as xgb\n",
        "from sklearn.model_selection import train_test_split\n",
        "from sklearn.ensemble import RandomForestRegressor\n",
        "from sklearn.linear_model import LinearRegression\n",
        "import joblib\n",
        "from sklearn.metrics import mean_absolute_error\n",
        "\n",
        "# configuration file\n",
        "module_path = os.path.abspath(os.path.join('..'))\n",
        "if module_path not in sys.path:\n",
        "    sys.path.append(module_path)\n",
        "from Configuration.config import cfg_path\n",
        "\n",
        "# custom functions\n",
        "from Code.Plotting.plots import Plots\n",
        "from Code.Regressors.regressors import Regressors\n",
        "from Code.Regressors.temperatures import Temperatures\n",
        "from Code.Scoring.scoring import Scoring\n",
        "from Code.Scoring.train_test import TrainTest\n",
        "from Code.Scoring.train import Training\n",
        "from Code.Scoring.forecast import Forecasting\n",
        "from Code.Scoring.kpi import Kpi\n",
        "from Code.Scoring.scoring import Scoring\n",
        "from Code.Utils.utils import Utils\n"
      ]
    },
    {
      "cell_type": "markdown",
      "id": "8dc26b7b",
      "metadata": {},
      "source": [
        "## Setup"
      ]
    },
    {
      "cell_type": "code",
      "execution_count": null,
      "id": "458162d0",
      "metadata": {},
      "outputs": [],
      "source": [
        "root = Path(os.getcwd()).parent\n",
        "dataset_path = os.path.join(root, cfg_path.data_dir.input_path)"
      ]
    },
    {
      "cell_type": "markdown",
      "id": "4Q-4BToWB7LC",
      "metadata": {
        "id": "4Q-4BToWB7LC"
      },
      "source": [
        "## Load Data\n"
      ]
    },
    {
      "cell_type": "code",
      "execution_count": null,
      "id": "d7e24623",
      "metadata": {
        "colab": {
          "base_uri": "https://localhost:8080/"
        },
        "id": "d7e24623",
        "outputId": "30507a03-42e3-4f9e-8b2b-bccb623a06c9"
      },
      "outputs": [],
      "source": [
        "df_train_data = pd.read_csv(os.path.join(\n",
        "    root, cfg_path.data_dir.input_path, 'insurance-claims.csv'))\n",
        "df_train_data.head()"
      ]
    },
    {
      "cell_type": "markdown",
      "id": "1ShqG6YJGmBk",
      "metadata": {
        "id": "1ShqG6YJGmBk"
      },
      "source": [
        "# Data Preparation\n"
      ]
    },
    {
      "cell_type": "markdown",
      "id": "f23ed7fb",
      "metadata": {},
      "source": [
        "## Parameter setup"
      ]
    },
    {
      "cell_type": "code",
      "execution_count": null,
      "id": "0ddada30",
      "metadata": {},
      "outputs": [],
      "source": [
        "id = 'ICD10Description'\n",
        "list_unique_id = ['ICD10Description', 'DateOfAccident']\n",
        "list_temp = []\n",
        "y = 'Sum of PaidDaysValue'"
      ]
    },
    {
      "cell_type": "markdown",
      "id": "78309614",
      "metadata": {},
      "source": [
        "#### Setting date as datetime"
      ]
    },
    {
      "cell_type": "code",
      "execution_count": null,
      "id": "51b01c28",
      "metadata": {},
      "outputs": [],
      "source": [
        "df_train_data['DateOfAccident'] = pd.to_datetime(df_train_data['DateOfAccident'], format = '%d-%m-%y %H:%M:%S %p')"
      ]
    },
    {
      "cell_type": "markdown",
      "id": "2799c9d5",
      "metadata": {},
      "source": [
        "#### Setting forecast end date"
      ]
    },
    {
      "cell_type": "code",
      "execution_count": null,
      "id": "5f55942a",
      "metadata": {},
      "outputs": [],
      "source": [
        "# Make sure to have all regressors available until forecast_end_date (temperatures, etc)\n",
        "forecast_end_date = '2022-12-31'"
      ]
    },
    {
      "cell_type": "markdown",
      "id": "08af66c3",
      "metadata": {},
      "source": [
        "## Plotting y series"
      ]
    },
    {
      "cell_type": "code",
      "execution_count": null,
      "id": "23685319",
      "metadata": {},
      "outputs": [],
      "source": [
        "# Print available ids and choose which one to plot \n",
        "print(list(df_train_data[id].unique())[0:20])"
      ]
    },
    {
      "cell_type": "code",
      "execution_count": null,
      "id": "a1fabf6b",
      "metadata": {},
      "outputs": [],
      "source": [
        "# Adjusting id names by removing special characters\n",
        "import re\n",
        "df_train_data.loc[:, id] = df_train_data.loc[:, id].apply(lambda x: re.sub('[^A-Za-z0-9]+', '_', x))\n"
      ]
    },
    {
      "cell_type": "code",
      "execution_count": null,
      "id": "6e669264",
      "metadata": {},
      "outputs": [],
      "source": [
        "# Selecting 100 ids to plot\n",
        "list_ids_to_plot = list(df_train_data[id].unique()[0:100])"
      ]
    },
    {
      "cell_type": "code",
      "execution_count": null,
      "id": "109aaf82",
      "metadata": {},
      "outputs": [],
      "source": [
        "count = 1\n",
        "for i in list_ids_to_plot:\n",
        "    print('Plotting id:', i, 'as', count, 'of', len(list_ids_to_plot))\n",
        "    plot = Plots.sliding_line_plot(df_train_data, y, id, i, chart_title=\"\")\n",
        "    plot.write_html(os.path.join(root, cfg_path.data_dir.plot_path, id + '_' + str(i) + \".html\"))\n",
        "    count = count + 1 "
      ]
    },
    {
      "cell_type": "markdown",
      "id": "c0be27d0",
      "metadata": {},
      "source": [
        "## Dealing with NAs and aggregating at a chosen frequency"
      ]
    },
    {
      "cell_type": "markdown",
      "id": "0e88444e",
      "metadata": {},
      "source": [
        "Create a full time sequence on a chosen frequency and aggregate"
      ]
    },
    {
      "cell_type": "markdown",
      "id": "26de9cc1",
      "metadata": {},
      "source": [
        "#### Consumption data (y)"
      ]
    },
    {
      "cell_type": "code",
      "execution_count": null,
      "id": "77429654",
      "metadata": {},
      "outputs": [],
      "source": [
        "# Selecting 100 ids to elaborate\n",
        "df_train_data = df_train_data.loc[df_train_data[id].isin(list_ids_to_plot), ]\n",
        "date_var = Utils.find_date(df_train_data)\n",
        "print('List ids:', list_ids_to_plot)\n",
        "len(list_ids_to_plot)"
      ]
    },
    {
      "cell_type": "code",
      "execution_count": null,
      "id": "f711e287",
      "metadata": {},
      "outputs": [],
      "source": [
        "# Resampling function aggregates data in a dataframe with a chosen function, that can vary depending on the variable\n",
        "# i.e. temperatures when aggregated should be averaged, consumption should be summed, dummy variables should be pick as 'first'\n",
        "\n",
        "df_train_data[date_var].apply(lambda x: x.tz_localize(None))\n",
        "sampling = dt.timedelta(days=1)\n",
        "dict_grouping = {'RmaRegionDesc': 'first', 'Product': 'first', 'Sum of PaidDaysValue': 'sum'}\n",
        "df_resampled = Utils.resample_data(df_train_data, id, date_var, sampling, dict_grouping)\n",
        "print('List ids after resampling:', list(df_resampled[id].unique()))"
      ]
    },
    {
      "cell_type": "code",
      "execution_count": null,
      "id": "fecd0d49",
      "metadata": {},
      "outputs": [],
      "source": [
        "# Adding a full time sequence\n",
        "df_train_data = Utils.add_seq(df_resampled, date_var, serie = id, freq = sampling, end_date=forecast_end_date, start_date='')"
      ]
    },
    {
      "cell_type": "code",
      "execution_count": null,
      "id": "650cf7b7",
      "metadata": {},
      "outputs": [],
      "source": [
        "# This function count the number of obs you should have if you had a full time sequence\n",
        "Utils.check_length_time_serie(df_train_data, date_var, index = id).head()"
      ]
    },
    {
      "cell_type": "code",
      "execution_count": null,
      "id": "7d18510c",
      "metadata": {},
      "outputs": [],
      "source": [
        "df_train_data.head()"
      ]
    },
    {
      "cell_type": "code",
      "execution_count": null,
      "id": "42bc870d",
      "metadata": {},
      "outputs": [],
      "source": [
        "print('List ids after resampling and adding full time sequence:', list(df_train_data[id].unique()))"
      ]
    },
    {
      "cell_type": "markdown",
      "id": "8a56ffd2",
      "metadata": {},
      "source": [
        "## Creating working dataset"
      ]
    },
    {
      "cell_type": "code",
      "execution_count": null,
      "id": "6mGY36qeLgvf",
      "metadata": {
        "id": "6mGY36qeLgvf"
      },
      "outputs": [],
      "source": [
        "# Final df\n",
        "df_final = df_train_data.copy()\n",
        "\n",
        "# Date\n",
        "date_var = Utils.find_date(df_final)"
      ]
    },
    {
      "cell_type": "markdown",
      "id": "53a5656c",
      "metadata": {},
      "source": [
        "#### Count NAs in y by id"
      ]
    },
    {
      "cell_type": "code",
      "execution_count": null,
      "id": "59ba6bca",
      "metadata": {},
      "outputs": [],
      "source": [
        "df_final.head()"
      ]
    },
    {
      "cell_type": "code",
      "execution_count": null,
      "id": "6a3889e4",
      "metadata": {},
      "outputs": [],
      "source": [
        "pivotna = pd.pivot_table(df_final[df_final[y].isna()], index=id, values = y, aggfunc='count').reset_index()\n",
        "pivotna.rename(columns={y: y + '_count_NA'})\n",
        "pivotna"
      ]
    },
    {
      "cell_type": "markdown",
      "id": "6740bfb1",
      "metadata": {},
      "source": [
        "### Adding regressors to final dataframe"
      ]
    },
    {
      "cell_type": "markdown",
      "id": "e5c112c5",
      "metadata": {},
      "source": [
        "#### Holidays"
      ]
    },
    {
      "cell_type": "markdown",
      "id": "2830270a",
      "metadata": {},
      "source": [
        "If you don't have specific holiday dataset, you can use the following general function by country that uses the holiday python package and adds to your dataframe a columns with a holiday dummy variable (0/1):\n",
        "\n",
        "    df_final = Regressors.add_holidays_by_country(df_final, date_var, country = 'France')"
      ]
    },
    {
      "cell_type": "code",
      "execution_count": null,
      "id": "805ebacf",
      "metadata": {},
      "outputs": [],
      "source": [
        "df_final = Regressors.add_holidays_by_country(df_final, date_var, country='United States')\n",
        "print('Min date:', df_final[date_var].min())\n",
        "print('Max date:', df_final[date_var].max())"
      ]
    },
    {
      "cell_type": "markdown",
      "id": "395e6780",
      "metadata": {},
      "source": [
        "#### Other calendar variables"
      ]
    },
    {
      "cell_type": "code",
      "execution_count": null,
      "id": "196089f6",
      "metadata": {},
      "outputs": [],
      "source": [
        "df_final = Regressors.add_weekdays(df_final, date_var)\n",
        "df_final = Regressors.add_months(df_final, date_var)\n",
        "print('Min date:', df_final[date_var].min())\n",
        "print('Max date:', df_final[date_var].max())"
      ]
    },
    {
      "cell_type": "markdown",
      "id": "6743f041",
      "metadata": {},
      "source": [
        "#### Remove duplicates"
      ]
    },
    {
      "cell_type": "code",
      "execution_count": null,
      "id": "fbcb2765",
      "metadata": {},
      "outputs": [],
      "source": [
        "df_final = df_final.drop_duplicates()\n",
        "print('List ids in df_final after removing duplicates:', list(df_final[id].unique()))\n",
        "assert df_final[df_final.duplicated()].count().sum() == 0, \"y should not contain duplicates\"\n",
        "print('Min date:', df_final[date_var].min())\n",
        "print('Max date:', df_final[date_var].max())"
      ]
    },
    {
      "cell_type": "markdown",
      "id": "a7809c54",
      "metadata": {},
      "source": [
        "#### Check regressor availability"
      ]
    },
    {
      "cell_type": "code",
      "execution_count": null,
      "id": "4ea99f83",
      "metadata": {},
      "outputs": [],
      "source": [
        "df_final.columns"
      ]
    },
    {
      "cell_type": "code",
      "execution_count": null,
      "id": "e7945831",
      "metadata": {},
      "outputs": [],
      "source": [
        "# Temperatures have been filled, only temperature asis that is the composition between the actual temperature and ten year averages\n",
        "regressors_list = [ 'holidays','RmaRegionDesc', 'Product',\n",
        "       'holidays', 'wd_mon', 'wd_tue', 'wd_wed',\n",
        "       'wd_thu', 'wd_fri', 'wd_sat', 'wd_sun', 'month_01', 'month_02',\n",
        "       'month_03', 'month_04', 'month_05', 'month_06', 'month_07', 'month_08',\n",
        "       'month_09', 'month_10', 'month_11', 'month_12']\n",
        "\n",
        "try:\n",
        "       Utils.check_regressors_availability(df_final, date_var, regressors_list, forecast_end_date)\n",
        "except:\n",
        "       Utils.remove_regressors_with_nan(df_final, date_var, regressors_list, forecast_end_date)"
      ]
    },
    {
      "cell_type": "markdown",
      "id": "f6dff377",
      "metadata": {},
      "source": [
        "# Saving"
      ]
    },
    {
      "cell_type": "code",
      "execution_count": null,
      "id": "4715ab4e",
      "metadata": {},
      "outputs": [],
      "source": [
        "df_final.to_pickle(os.path.join(root, cfg_path.data_dir.output_path, 'insurance_claims_final.pkl'))"
      ]
    },
    {
      "cell_type": "code",
      "execution_count": null,
      "id": "bd0951d8",
      "metadata": {},
      "outputs": [],
      "source": [
        "print('Min date:', df_final[date_var].min())\n",
        "print('Max date:', df_final[date_var].max())\n",
        "df_final.head()\n"
      ]
    }
  ],
  "metadata": {
    "colab": {
      "collapsed_sections": [
        "AbKOiffyAql8",
        "6YxUycDC9p0h"
      ],
      "name": "Analysis (1).ipynb",
      "provenance": []
    },
    "interpreter": {
      "hash": "2b8f5b14411d0017ed363cef4929504a7281087d06f1b18c01da6e951b937e80"
    },
    "kernelspec": {
      "display_name": "Python 3.7.7 ('forecasting_energy')",
      "language": "python",
      "name": "python3"
    },
    "language_info": {
      "codemirror_mode": {
        "name": "ipython",
        "version": 3
      },
      "file_extension": ".py",
      "mimetype": "text/x-python",
      "name": "python",
      "nbconvert_exporter": "python",
      "pygments_lexer": "ipython3",
      "version": "3.7.7"
    }
  },
  "nbformat": 4,
  "nbformat_minor": 5
}
