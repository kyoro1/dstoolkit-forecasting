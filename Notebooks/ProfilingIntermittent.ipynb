{
 "cells": [
  {
   "cell_type": "markdown",
   "id": "dc3e4402",
   "metadata": {},
   "source": [
    "# Implementation"
   ]
  },
  {
   "cell_type": "markdown",
   "id": "sWbXCGozBRNW",
   "metadata": {
    "id": "sWbXCGozBRNW"
   },
   "source": [
    "## Packages"
   ]
  },
  {
   "cell_type": "code",
   "execution_count": 1,
   "id": "kmxpysFu7zjH",
   "metadata": {
    "colab": {
     "base_uri": "https://localhost:8080/"
    },
    "id": "kmxpysFu7zjH",
    "outputId": "db2717d5-22be-4fa8-99fb-3f9ea90e7e1b"
   },
   "outputs": [],
   "source": [
    "# data elaboration functions\n",
    "import pandas as pd\n",
    "from six.moves import collections_abc\n",
    "import string\n",
    "import numpy as np\n",
    "\n",
    "# datetime functions\n",
    "import datetime as dt\n",
    "\n",
    "# file management functions\n",
    "import os\n",
    "import sys\n",
    "import opendatasets as od\n",
    "import pickle\n",
    "from pathlib import Path\n",
    "\n",
    "# plot functions\n",
    "import matplotlib.pyplot as plt\n",
    "%matplotlib inline\n",
    "\n",
    "# data science functions\n",
    "import matplotlib.pyplot as plt\n",
    "from kneed import KneeLocator\n",
    "from sklearn.datasets import make_blobs\n",
    "from sklearn.cluster import KMeans\n",
    "from sklearn.metrics import silhouette_score\n",
    "from sklearn.preprocessing import StandardScaler, scale\n",
    "from sklearn.metrics import mean_absolute_error\n",
    "import joblib\n",
    "from sklearn.linear_model import LinearRegression\n",
    "from sklearn.ensemble import RandomForestRegressor\n",
    "from sklearn.model_selection import train_test_split\n",
    "import xgboost as xgb\n",
    "\n",
    "# statistical functions\n",
    "from scipy.stats.mstats import winsorize\n",
    "\n",
    "# configuration file\n",
    "module_path = os.path.abspath(os.path.join('..'))\n",
    "if module_path not in sys.path:\n",
    "    sys.path.append(module_path)\n",
    "\n",
    "# custom functions\n",
    "from Code.Profiling.Intermittent.intermittent import Intermittent\n",
    "from Code.Utils.utils import Utils\n",
    "from Code.Scoring.kpi import Kpi\n",
    "from Code.Scoring.forecast import Forecasting\n",
    "from Code.Scoring.train import Training\n",
    "from Code.Scoring.train_test import TrainTest\n",
    "from Code.Scoring.scoring import Scoring\n",
    "from Code.Regressors.regressors import Regressors\n",
    "from Code.Plotting.plots import Plots\n",
    "from Configuration.config import cfg_path"
   ]
  },
  {
   "cell_type": "markdown",
   "id": "8dc26b7b",
   "metadata": {},
   "source": [
    "## Setup"
   ]
  },
  {
   "cell_type": "code",
   "execution_count": 2,
   "id": "458162d0",
   "metadata": {},
   "outputs": [],
   "source": [
    "# od.download(\"https://www.kaggle.com/arashnic/building-sites-power-consumption-dataset/download\")\n",
    "root = Path(os.getcwd()).parent\n",
    "dataset_path = os.path.join(root, cfg_path.data_dir.input_path)\n"
   ]
  },
  {
   "cell_type": "markdown",
   "id": "86bb0e13",
   "metadata": {},
   "source": [
    "## Load Data"
   ]
  },
  {
   "cell_type": "code",
   "execution_count": 3,
   "id": "09358d6d",
   "metadata": {},
   "outputs": [
    {
     "data": {
      "text/html": [
       "<div>\n",
       "<style scoped>\n",
       "    .dataframe tbody tr th:only-of-type {\n",
       "        vertical-align: middle;\n",
       "    }\n",
       "\n",
       "    .dataframe tbody tr th {\n",
       "        vertical-align: top;\n",
       "    }\n",
       "\n",
       "    .dataframe thead th {\n",
       "        text-align: right;\n",
       "    }\n",
       "</style>\n",
       "<table border=\"1\" class=\"dataframe\">\n",
       "  <thead>\n",
       "    <tr style=\"text-align: right;\">\n",
       "      <th></th>\n",
       "      <th>site_id</th>\n",
       "      <th>timestamp</th>\n",
       "      <th>obs_id</th>\n",
       "      <th>forecast_id</th>\n",
       "      <th>value</th>\n",
       "      <th>holidays</th>\n",
       "      <th>day_off</th>\n",
       "      <th>surface</th>\n",
       "      <th>base_temperature</th>\n",
       "      <th>wd_mon</th>\n",
       "      <th>...</th>\n",
       "      <th>month_07</th>\n",
       "      <th>month_08</th>\n",
       "      <th>month_09</th>\n",
       "      <th>month_10</th>\n",
       "      <th>month_11</th>\n",
       "      <th>month_12</th>\n",
       "      <th>temperature</th>\n",
       "      <th>distance</th>\n",
       "      <th>DDC_temperature</th>\n",
       "      <th>DDH_temperature</th>\n",
       "    </tr>\n",
       "  </thead>\n",
       "  <tbody>\n",
       "    <tr>\n",
       "      <th>1</th>\n",
       "      <td>13</td>\n",
       "      <td>2015-11-02 00:00:00+00:00</td>\n",
       "      <td>3747176.0</td>\n",
       "      <td>415.0</td>\n",
       "      <td>3.870603e+06</td>\n",
       "      <td>1</td>\n",
       "      <td>0</td>\n",
       "      <td>891.487850</td>\n",
       "      <td>18.0</td>\n",
       "      <td>1</td>\n",
       "      <td>...</td>\n",
       "      <td>0</td>\n",
       "      <td>0</td>\n",
       "      <td>0</td>\n",
       "      <td>0</td>\n",
       "      <td>1</td>\n",
       "      <td>0</td>\n",
       "      <td>17.333333</td>\n",
       "      <td>28.407896</td>\n",
       "      <td>0.000000</td>\n",
       "      <td>0.666667</td>\n",
       "    </tr>\n",
       "    <tr>\n",
       "      <th>3</th>\n",
       "      <td>16</td>\n",
       "      <td>2015-11-02 00:00:00+00:00</td>\n",
       "      <td>2912040.0</td>\n",
       "      <td>524.0</td>\n",
       "      <td>2.593093e+06</td>\n",
       "      <td>1</td>\n",
       "      <td>0</td>\n",
       "      <td>1218.738383</td>\n",
       "      <td>18.0</td>\n",
       "      <td>1</td>\n",
       "      <td>...</td>\n",
       "      <td>0</td>\n",
       "      <td>0</td>\n",
       "      <td>0</td>\n",
       "      <td>0</td>\n",
       "      <td>1</td>\n",
       "      <td>0</td>\n",
       "      <td>24.226667</td>\n",
       "      <td>21.793645</td>\n",
       "      <td>6.226667</td>\n",
       "      <td>0.000000</td>\n",
       "    </tr>\n",
       "    <tr>\n",
       "      <th>11</th>\n",
       "      <td>21</td>\n",
       "      <td>2015-11-02 00:00:00+00:00</td>\n",
       "      <td>4779740.0</td>\n",
       "      <td>649.0</td>\n",
       "      <td>3.349616e+06</td>\n",
       "      <td>1</td>\n",
       "      <td>0</td>\n",
       "      <td>10985.292634</td>\n",
       "      <td>18.0</td>\n",
       "      <td>1</td>\n",
       "      <td>...</td>\n",
       "      <td>0</td>\n",
       "      <td>0</td>\n",
       "      <td>0</td>\n",
       "      <td>0</td>\n",
       "      <td>1</td>\n",
       "      <td>0</td>\n",
       "      <td>7.495833</td>\n",
       "      <td>11.902777</td>\n",
       "      <td>0.000000</td>\n",
       "      <td>10.504167</td>\n",
       "    </tr>\n",
       "    <tr>\n",
       "      <th>13</th>\n",
       "      <td>22</td>\n",
       "      <td>2015-11-02 00:00:00+00:00</td>\n",
       "      <td>662180.0</td>\n",
       "      <td>685.0</td>\n",
       "      <td>3.668250e+05</td>\n",
       "      <td>1</td>\n",
       "      <td>0</td>\n",
       "      <td>7392.365415</td>\n",
       "      <td>18.0</td>\n",
       "      <td>1</td>\n",
       "      <td>...</td>\n",
       "      <td>0</td>\n",
       "      <td>0</td>\n",
       "      <td>0</td>\n",
       "      <td>0</td>\n",
       "      <td>1</td>\n",
       "      <td>0</td>\n",
       "      <td>15.583333</td>\n",
       "      <td>23.726983</td>\n",
       "      <td>0.000000</td>\n",
       "      <td>2.416667</td>\n",
       "    </tr>\n",
       "    <tr>\n",
       "      <th>17</th>\n",
       "      <td>25</td>\n",
       "      <td>2015-11-02 00:00:00+00:00</td>\n",
       "      <td>3488017.0</td>\n",
       "      <td>773.0</td>\n",
       "      <td>2.968195e+06</td>\n",
       "      <td>1</td>\n",
       "      <td>0</td>\n",
       "      <td>2201.924904</td>\n",
       "      <td>18.0</td>\n",
       "      <td>1</td>\n",
       "      <td>...</td>\n",
       "      <td>0</td>\n",
       "      <td>0</td>\n",
       "      <td>0</td>\n",
       "      <td>0</td>\n",
       "      <td>1</td>\n",
       "      <td>0</td>\n",
       "      <td>7.637500</td>\n",
       "      <td>16.135872</td>\n",
       "      <td>0.000000</td>\n",
       "      <td>10.362500</td>\n",
       "    </tr>\n",
       "  </tbody>\n",
       "</table>\n",
       "<p>5 rows × 32 columns</p>\n",
       "</div>"
      ],
      "text/plain": [
       "    site_id                 timestamp     obs_id  forecast_id         value  \\\n",
       "1        13 2015-11-02 00:00:00+00:00  3747176.0        415.0  3.870603e+06   \n",
       "3        16 2015-11-02 00:00:00+00:00  2912040.0        524.0  2.593093e+06   \n",
       "11       21 2015-11-02 00:00:00+00:00  4779740.0        649.0  3.349616e+06   \n",
       "13       22 2015-11-02 00:00:00+00:00   662180.0        685.0  3.668250e+05   \n",
       "17       25 2015-11-02 00:00:00+00:00  3488017.0        773.0  2.968195e+06   \n",
       "\n",
       "    holidays  day_off       surface  base_temperature  wd_mon  ...  month_07  \\\n",
       "1          1        0    891.487850              18.0       1  ...         0   \n",
       "3          1        0   1218.738383              18.0       1  ...         0   \n",
       "11         1        0  10985.292634              18.0       1  ...         0   \n",
       "13         1        0   7392.365415              18.0       1  ...         0   \n",
       "17         1        0   2201.924904              18.0       1  ...         0   \n",
       "\n",
       "    month_08  month_09  month_10  month_11  month_12  temperature   distance  \\\n",
       "1          0         0         0         1         0    17.333333  28.407896   \n",
       "3          0         0         0         1         0    24.226667  21.793645   \n",
       "11         0         0         0         1         0     7.495833  11.902777   \n",
       "13         0         0         0         1         0    15.583333  23.726983   \n",
       "17         0         0         0         1         0     7.637500  16.135872   \n",
       "\n",
       "    DDC_temperature  DDH_temperature  \n",
       "1          0.000000         0.666667  \n",
       "3          6.226667         0.000000  \n",
       "11         0.000000        10.504167  \n",
       "13         0.000000         2.416667  \n",
       "17         0.000000        10.362500  \n",
       "\n",
       "[5 rows x 32 columns]"
      ]
     },
     "execution_count": 3,
     "metadata": {},
     "output_type": "execute_result"
    }
   ],
   "source": [
    "df_final = pd.read_pickle(os.path.join(\n",
    "    root, cfg_path.data_dir.output_path, 'df_final.pkl'))\n",
    "df_final.head()\n"
   ]
  },
  {
   "cell_type": "markdown",
   "id": "f23ed7fb",
   "metadata": {},
   "source": [
    "## Parameter setup"
   ]
  },
  {
   "cell_type": "code",
   "execution_count": 4,
   "metadata": {},
   "outputs": [
    {
     "name": "stdout",
     "output_type": "stream",
     "text": [
      "find_date, date_col found: ['timestamp']\n"
     ]
    }
   ],
   "source": [
    "id = 'site_id'\n",
    "list_unique_id = ['site_id', 'timestamp']\n",
    "list_temp = ['temp']\n",
    "y = 'value'\n",
    "date_var = Utils.find_date(df_final)"
   ]
  },
  {
   "cell_type": "markdown",
   "metadata": {},
   "source": [
    "## Working dataframe"
   ]
  },
  {
   "cell_type": "code",
   "execution_count": 5,
   "metadata": {},
   "outputs": [
    {
     "name": "stdout",
     "output_type": "stream",
     "text": [
      "Id available [13, 16, 21, 22, 25, 26, 29, 32, 33, 39, 40, 42, 27, 51, 47, 48, 49, 44, 50, 57, 20, 46, 17, 18, 52, 12]\n"
     ]
    }
   ],
   "source": [
    "# Defining working dataframe by removing potential null values in y variable\n",
    "df = df_final.loc[~df_final[y].isnull(),].copy()\n",
    "print('Id available', list(df[id].unique()))"
   ]
  },
  {
   "cell_type": "markdown",
   "metadata": {},
   "source": [
    "# Compute intermittent indicators"
   ]
  },
  {
   "cell_type": "code",
   "execution_count": 6,
   "metadata": {},
   "outputs": [],
   "source": [
    "# Winsorizing parameters\n",
    "highest = 0.05\n",
    "lowest = 0.05\n",
    "\n",
    "# Identifying intermittent time series parameters\n",
    "threshold = 250\n",
    "perc = 0.01\n",
    "quant = 0.999\n",
    "score = df.loc[:, [id, y]].groupby(id).apply(lambda x: Intermittent.idclass3(\n",
    "    np.array(x), threshold, perc, quant, highest, lowest)).reset_index(level=id)\n",
    "score_mix = df.loc[:, [id, y]].groupby(id).apply(lambda x: Intermittent.enh_idclass5(\n",
    "    np.array(x), threshold, perc, quant, highest, lowest)).reset_index(level=id)\n"
   ]
  },
  {
   "cell_type": "markdown",
   "metadata": {},
   "source": [
    "## Profiling intermittent time series"
   ]
  },
  {
   "cell_type": "code",
   "execution_count": 7,
   "metadata": {},
   "outputs": [
    {
     "name": "stdout",
     "output_type": "stream",
     "text": [
      "List of nan ids []\n",
      "classify_intermittent: regular ids 26\n",
      "classify_intermittent: no constant_zero ids\n",
      "classify_intermittent: no constant ids\n",
      "classify_intermittent: no intermittent ids\n",
      "classify_intermittent: no lumpy ids\n",
      "classify_intermittent: no erratic ids\n",
      "classify_intermittent: no unforecastable_time ids\n",
      "classify_intermittent: no unforecastable_quantity ids\n",
      "site_id regular [12, 13, 16, 17, 18, 20, 21, 22, 25, 26, 27, 29, 32, 33, 39, 40, 42, 44, 46, 47, 48, 49, 50, 51, 52, 57]\n",
      "site_id constant_zero []\n",
      "site_id constant []\n",
      "site_id intermittent []\n",
      "site_id lumpy []\n",
      "site_id erratic []\n",
      "site_id unforecastable_time []\n",
      "site_id unforecastable_quantity []\n"
     ]
    }
   ],
   "source": [
    "# Excluding the ids for which the indicators are np.NaN\n",
    "score_no_nan = score_mix.dropna()\n",
    "list_nan = list(set(score_mix[id]) - set(score_no_nan[id]))\n",
    "print('List of nan ids', list_nan)\n",
    "\n",
    "# Classify intermittent TS\n",
    "thres_cv2_constant = 0.01\n",
    "thres_cv2 = 2\n",
    "thres_adi = 3\n",
    "thres_sddi = 6.2\n",
    "min_time_cons = 2\n",
    "type = 'mix_floor_Q_999'\n",
    "\n",
    "df_profiling = Intermittent.classify_intermittent(\n",
    "    score_no_nan, type, thres_cv2_constant, thres_cv2, thres_adi, thres_sddi, min_time_cons)\n",
    "\n",
    "# Dictionary\n",
    "list_of_profiles = ['regular', 'constant_zero', 'constant', 'intermittent',\n",
    "                    'lumpy', 'erratic', 'unforecastable_time', 'unforecastable_quantity']\n",
    "dict_profiling = {}\n",
    "for c in list_of_profiles:\n",
    "    dict_profiling[c] = list(\n",
    "        df_profiling.loc[df_profiling.profile == c, id].unique())\n",
    "    print(id, c, dict_profiling[c])\n"
   ]
  },
  {
   "cell_type": "markdown",
   "metadata": {},
   "source": [
    "### Plotting profiled series"
   ]
  },
  {
   "cell_type": "code",
   "execution_count": 8,
   "metadata": {},
   "outputs": [
    {
     "name": "stdout",
     "output_type": "stream",
     "text": [
      "Plotting id: 13 as 1 of 26\n",
      "find_date, date_col found: ['timestamp']\n",
      "sliding_line_plot: plotting Value site_id 13\n",
      "Plotting id: 16 as 2 of 26\n",
      "find_date, date_col found: ['timestamp']\n",
      "sliding_line_plot: plotting Value site_id 16\n",
      "Plotting id: 21 as 3 of 26\n",
      "find_date, date_col found: ['timestamp']\n",
      "sliding_line_plot: plotting Value site_id 21\n",
      "Plotting id: 22 as 4 of 26\n",
      "find_date, date_col found: ['timestamp']\n",
      "sliding_line_plot: plotting Value site_id 22\n",
      "Plotting id: 25 as 5 of 26\n",
      "find_date, date_col found: ['timestamp']\n",
      "sliding_line_plot: plotting Value site_id 25\n",
      "Plotting id: 26 as 6 of 26\n",
      "find_date, date_col found: ['timestamp']\n",
      "sliding_line_plot: plotting Value site_id 26\n",
      "Plotting id: 29 as 7 of 26\n",
      "find_date, date_col found: ['timestamp']\n",
      "sliding_line_plot: plotting Value site_id 29\n",
      "Plotting id: 32 as 8 of 26\n",
      "find_date, date_col found: ['timestamp']\n",
      "sliding_line_plot: plotting Value site_id 32\n",
      "Plotting id: 33 as 9 of 26\n",
      "find_date, date_col found: ['timestamp']\n",
      "sliding_line_plot: plotting Value site_id 33\n",
      "Plotting id: 39 as 10 of 26\n",
      "find_date, date_col found: ['timestamp']\n",
      "sliding_line_plot: plotting Value site_id 39\n",
      "Plotting id: 40 as 11 of 26\n",
      "find_date, date_col found: ['timestamp']\n",
      "sliding_line_plot: plotting Value site_id 40\n",
      "Plotting id: 42 as 12 of 26\n",
      "find_date, date_col found: ['timestamp']\n",
      "sliding_line_plot: plotting Value site_id 42\n",
      "Plotting id: 27 as 13 of 26\n",
      "find_date, date_col found: ['timestamp']\n",
      "sliding_line_plot: plotting Value site_id 27\n",
      "Plotting id: 51 as 14 of 26\n",
      "find_date, date_col found: ['timestamp']\n",
      "sliding_line_plot: plotting Value site_id 51\n",
      "Plotting id: 47 as 15 of 26\n",
      "find_date, date_col found: ['timestamp']\n",
      "sliding_line_plot: plotting Value site_id 47\n",
      "Plotting id: 48 as 16 of 26\n",
      "find_date, date_col found: ['timestamp']\n",
      "sliding_line_plot: plotting Value site_id 48\n",
      "Plotting id: 49 as 17 of 26\n",
      "find_date, date_col found: ['timestamp']\n",
      "sliding_line_plot: plotting Value site_id 49\n",
      "Plotting id: 44 as 18 of 26\n",
      "find_date, date_col found: ['timestamp']\n",
      "sliding_line_plot: plotting Value site_id 44\n",
      "Plotting id: 50 as 19 of 26\n",
      "find_date, date_col found: ['timestamp']\n",
      "sliding_line_plot: plotting Value site_id 50\n",
      "Plotting id: 57 as 20 of 26\n",
      "find_date, date_col found: ['timestamp']\n",
      "sliding_line_plot: plotting Value site_id 57\n",
      "Plotting id: 20 as 21 of 26\n",
      "find_date, date_col found: ['timestamp']\n",
      "sliding_line_plot: plotting Value site_id 20\n",
      "Plotting id: 46 as 22 of 26\n",
      "find_date, date_col found: ['timestamp']\n",
      "sliding_line_plot: plotting Value site_id 46\n",
      "Plotting id: 17 as 23 of 26\n",
      "find_date, date_col found: ['timestamp']\n",
      "sliding_line_plot: plotting Value site_id 17\n",
      "Plotting id: 18 as 24 of 26\n",
      "find_date, date_col found: ['timestamp']\n",
      "sliding_line_plot: plotting Value site_id 18\n",
      "Plotting id: 52 as 25 of 26\n",
      "find_date, date_col found: ['timestamp']\n",
      "sliding_line_plot: plotting Value site_id 52\n",
      "Plotting id: 12 as 26 of 26\n",
      "find_date, date_col found: ['timestamp']\n",
      "sliding_line_plot: plotting Value site_id 12\n"
     ]
    }
   ],
   "source": [
    "for profile in list_of_profiles:\n",
    "    df_to_plot = df.loc[df[id].isin(list(dict_profiling[profile])), ]\n",
    "    count = 1\n",
    "    for i in list(df_to_plot[id].unique()):\n",
    "        print('Plotting id:', i, 'as', count, 'of',\n",
    "              len(list(df_to_plot[id].unique())))\n",
    "        plot = Plots.sliding_line_plot(df_to_plot, y, id, i, chart_title=\"\")\n",
    "        plot.write_html(os.path.join(root, cfg_path.data_dir.plot_path,\n",
    "                        id + '_' + str(i) + '_profile_' + profile + \".html\"))\n",
    "        count = count + 1\n"
   ]
  },
  {
   "cell_type": "markdown",
   "metadata": {},
   "source": [
    "# Saving"
   ]
  },
  {
   "cell_type": "code",
   "execution_count": 9,
   "metadata": {},
   "outputs": [],
   "source": [
    "# create a binary pickle file \n",
    "f = open(os.path.join(root, cfg_path.data_dir.output_path, 'dict_profiling.pkl'),\"wb\")\n",
    "# write the python object (dict) to pickle file\n",
    "pickle.dump(dict_profiling,f)\n",
    "# close file\n",
    "f.close()"
   ]
  }
 ],
 "metadata": {
  "interpreter": {
   "hash": "bde6963c5f9d136d1b0963ec6638d0588f83e0d56652a4cd4ef0ca62bda372aa"
  },
  "kernelspec": {
   "display_name": "Python 3.7.7 ('forecasting_energy')",
   "language": "python",
   "name": "python3"
  },
  "language_info": {
   "codemirror_mode": {
    "name": "ipython",
    "version": 3
   },
   "file_extension": ".py",
   "mimetype": "text/x-python",
   "name": "python",
   "nbconvert_exporter": "python",
   "pygments_lexer": "ipython3",
   "version": "3.7.7"
  },
  "orig_nbformat": 4
 },
 "nbformat": 4,
 "nbformat_minor": 2
}
