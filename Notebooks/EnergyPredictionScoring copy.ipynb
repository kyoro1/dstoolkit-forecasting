{
  "cells": [
    {
      "cell_type": "markdown",
      "id": "dc3e4402",
      "metadata": {},
      "source": [
        "# Implementation"
      ]
    },
    {
      "cell_type": "markdown",
      "id": "sWbXCGozBRNW",
      "metadata": {
        "id": "sWbXCGozBRNW"
      },
      "source": [
        "## Packages"
      ]
    },
    {
      "cell_type": "code",
      "execution_count": 1,
      "id": "kmxpysFu7zjH",
      "metadata": {
        "colab": {
          "base_uri": "https://localhost:8080/"
        },
        "id": "kmxpysFu7zjH",
        "outputId": "db2717d5-22be-4fa8-99fb-3f9ea90e7e1b"
      },
      "outputs": [],
      "source": [
        "# data elaboration functions\n",
        "import pandas as pd\n",
        "from six.moves import collections_abc\n",
        "import string\n",
        "import numpy as np\n",
        "\n",
        "# datetime functions\n",
        "import datetime as dt\n",
        "\n",
        "# file management functions\n",
        "import os\n",
        "import sys\n",
        "import pickle\n",
        "from pathlib import Path\n",
        "\n",
        "# plot functions\n",
        "import matplotlib.pyplot as plt\n",
        "%matplotlib inline\n",
        "\n",
        "# data science functions\n",
        "import xgboost as xgb\n",
        "from sklearn.model_selection import train_test_split\n",
        "from sklearn.ensemble import RandomForestRegressor\n",
        "from sklearn.linear_model import LinearRegression\n",
        "import joblib\n",
        "from sklearn.metrics import mean_absolute_error\n",
        "\n",
        "# configuration file\n",
        "module_path = os.path.abspath(os.path.join('..'))\n",
        "if module_path not in sys.path:\n",
        "    sys.path.append(module_path)\n",
        "from Configuration.config import cfg_path\n",
        "\n",
        "# custom functions\n",
        "from Code.Plotting.plots import Plots\n",
        "from Code.Regressors.regressors import Regressors\n",
        "from Code.Scoring.scoring import Scoring\n",
        "from Code.Scoring.train_test import TrainTest\n",
        "from Code.Scoring.train import Training\n",
        "from Code.Scoring.forecast import Forecasting\n",
        "from Code.Scoring.kpi import Kpi\n",
        "from Code.Scoring.scoring import Scoring\n",
        "from Code.Utils.utils import Utils\n"
      ]
    },
    {
      "cell_type": "markdown",
      "id": "8dc26b7b",
      "metadata": {},
      "source": [
        "## Setup"
      ]
    },
    {
      "cell_type": "code",
      "execution_count": 3,
      "id": "458162d0",
      "metadata": {},
      "outputs": [],
      "source": [
        "#od.download(\"https://www.kaggle.com/arashnic/building-sites-power-consumption-dataset/download\")\n",
        "root = Path(os.getcwd()).parent\n",
        "dataset_path = os.path.join(root, cfg_path.data_dir.input_path)"
      ]
    },
    {
      "cell_type": "markdown",
      "id": "86bb0e13",
      "metadata": {},
      "source": [
        "## Load Data"
      ]
    },
    {
      "cell_type": "code",
      "execution_count": 4,
      "id": "09358d6d",
      "metadata": {},
      "outputs": [
        {
          "data": {
            "text/html": [
              "<div>\n",
              "<style scoped>\n",
              "    .dataframe tbody tr th:only-of-type {\n",
              "        vertical-align: middle;\n",
              "    }\n",
              "\n",
              "    .dataframe tbody tr th {\n",
              "        vertical-align: top;\n",
              "    }\n",
              "\n",
              "    .dataframe thead th {\n",
              "        text-align: right;\n",
              "    }\n",
              "</style>\n",
              "<table border=\"1\" class=\"dataframe\">\n",
              "  <thead>\n",
              "    <tr style=\"text-align: right;\">\n",
              "      <th></th>\n",
              "      <th>site_id</th>\n",
              "      <th>timestamp</th>\n",
              "      <th>obs_id</th>\n",
              "      <th>forecast_id</th>\n",
              "      <th>value</th>\n",
              "      <th>holidays</th>\n",
              "      <th>day_off</th>\n",
              "      <th>surface</th>\n",
              "      <th>base_temperature</th>\n",
              "      <th>wd_mon</th>\n",
              "      <th>...</th>\n",
              "      <th>month_07</th>\n",
              "      <th>month_08</th>\n",
              "      <th>month_09</th>\n",
              "      <th>month_10</th>\n",
              "      <th>month_11</th>\n",
              "      <th>month_12</th>\n",
              "      <th>temperature</th>\n",
              "      <th>distance</th>\n",
              "      <th>DDC_temperature</th>\n",
              "      <th>DDH_temperature</th>\n",
              "    </tr>\n",
              "  </thead>\n",
              "  <tbody>\n",
              "    <tr>\n",
              "      <th>0</th>\n",
              "      <td>12</td>\n",
              "      <td>2015-11-02</td>\n",
              "      <td>NaN</td>\n",
              "      <td>NaN</td>\n",
              "      <td>NaN</td>\n",
              "      <td>0</td>\n",
              "      <td>0</td>\n",
              "      <td>33676.246551</td>\n",
              "      <td>18.0</td>\n",
              "      <td>1</td>\n",
              "      <td>...</td>\n",
              "      <td>0</td>\n",
              "      <td>0</td>\n",
              "      <td>0</td>\n",
              "      <td>0</td>\n",
              "      <td>1</td>\n",
              "      <td>0</td>\n",
              "      <td>NaN</td>\n",
              "      <td>NaN</td>\n",
              "      <td>NaN</td>\n",
              "      <td>NaN</td>\n",
              "    </tr>\n",
              "    <tr>\n",
              "      <th>1</th>\n",
              "      <td>13</td>\n",
              "      <td>2015-11-02</td>\n",
              "      <td>3747176.0</td>\n",
              "      <td>415.0</td>\n",
              "      <td>3.870603e+06</td>\n",
              "      <td>1</td>\n",
              "      <td>0</td>\n",
              "      <td>891.487850</td>\n",
              "      <td>18.0</td>\n",
              "      <td>1</td>\n",
              "      <td>...</td>\n",
              "      <td>0</td>\n",
              "      <td>0</td>\n",
              "      <td>0</td>\n",
              "      <td>0</td>\n",
              "      <td>1</td>\n",
              "      <td>0</td>\n",
              "      <td>17.333333</td>\n",
              "      <td>28.407896</td>\n",
              "      <td>0.000000</td>\n",
              "      <td>0.666667</td>\n",
              "    </tr>\n",
              "    <tr>\n",
              "      <th>3</th>\n",
              "      <td>16</td>\n",
              "      <td>2015-11-02</td>\n",
              "      <td>2912040.0</td>\n",
              "      <td>524.0</td>\n",
              "      <td>2.593093e+06</td>\n",
              "      <td>1</td>\n",
              "      <td>0</td>\n",
              "      <td>1218.738383</td>\n",
              "      <td>18.0</td>\n",
              "      <td>1</td>\n",
              "      <td>...</td>\n",
              "      <td>0</td>\n",
              "      <td>0</td>\n",
              "      <td>0</td>\n",
              "      <td>0</td>\n",
              "      <td>1</td>\n",
              "      <td>0</td>\n",
              "      <td>24.226667</td>\n",
              "      <td>21.793645</td>\n",
              "      <td>6.226667</td>\n",
              "      <td>0.000000</td>\n",
              "    </tr>\n",
              "    <tr>\n",
              "      <th>5</th>\n",
              "      <td>17</td>\n",
              "      <td>2015-11-02</td>\n",
              "      <td>NaN</td>\n",
              "      <td>NaN</td>\n",
              "      <td>0.000000e+00</td>\n",
              "      <td>1</td>\n",
              "      <td>0</td>\n",
              "      <td>1625.837520</td>\n",
              "      <td>18.0</td>\n",
              "      <td>1</td>\n",
              "      <td>...</td>\n",
              "      <td>0</td>\n",
              "      <td>0</td>\n",
              "      <td>0</td>\n",
              "      <td>0</td>\n",
              "      <td>1</td>\n",
              "      <td>0</td>\n",
              "      <td>NaN</td>\n",
              "      <td>NaN</td>\n",
              "      <td>NaN</td>\n",
              "      <td>NaN</td>\n",
              "    </tr>\n",
              "    <tr>\n",
              "      <th>7</th>\n",
              "      <td>18</td>\n",
              "      <td>2015-11-02</td>\n",
              "      <td>NaN</td>\n",
              "      <td>NaN</td>\n",
              "      <td>0.000000e+00</td>\n",
              "      <td>1</td>\n",
              "      <td>0</td>\n",
              "      <td>677.533195</td>\n",
              "      <td>18.0</td>\n",
              "      <td>1</td>\n",
              "      <td>...</td>\n",
              "      <td>0</td>\n",
              "      <td>0</td>\n",
              "      <td>0</td>\n",
              "      <td>0</td>\n",
              "      <td>1</td>\n",
              "      <td>0</td>\n",
              "      <td>NaN</td>\n",
              "      <td>NaN</td>\n",
              "      <td>NaN</td>\n",
              "      <td>NaN</td>\n",
              "    </tr>\n",
              "  </tbody>\n",
              "</table>\n",
              "<p>5 rows × 32 columns</p>\n",
              "</div>"
            ],
            "text/plain": [
              "   site_id  timestamp     obs_id  forecast_id         value  holidays  \\\n",
              "0       12 2015-11-02        NaN          NaN           NaN         0   \n",
              "1       13 2015-11-02  3747176.0        415.0  3.870603e+06         1   \n",
              "3       16 2015-11-02  2912040.0        524.0  2.593093e+06         1   \n",
              "5       17 2015-11-02        NaN          NaN  0.000000e+00         1   \n",
              "7       18 2015-11-02        NaN          NaN  0.000000e+00         1   \n",
              "\n",
              "   day_off       surface  base_temperature  wd_mon  ...  month_07  month_08  \\\n",
              "0        0  33676.246551              18.0       1  ...         0         0   \n",
              "1        0    891.487850              18.0       1  ...         0         0   \n",
              "3        0   1218.738383              18.0       1  ...         0         0   \n",
              "5        0   1625.837520              18.0       1  ...         0         0   \n",
              "7        0    677.533195              18.0       1  ...         0         0   \n",
              "\n",
              "   month_09  month_10  month_11  month_12  temperature   distance  \\\n",
              "0         0         0         1         0          NaN        NaN   \n",
              "1         0         0         1         0    17.333333  28.407896   \n",
              "3         0         0         1         0    24.226667  21.793645   \n",
              "5         0         0         1         0          NaN        NaN   \n",
              "7         0         0         1         0          NaN        NaN   \n",
              "\n",
              "   DDC_temperature  DDH_temperature  \n",
              "0              NaN              NaN  \n",
              "1         0.000000         0.666667  \n",
              "3         6.226667         0.000000  \n",
              "5              NaN              NaN  \n",
              "7              NaN              NaN  \n",
              "\n",
              "[5 rows x 32 columns]"
            ]
          },
          "execution_count": 4,
          "metadata": {},
          "output_type": "execute_result"
        }
      ],
      "source": [
        "df_final = pd.read_pickle(os.path.join(root, cfg_path.data_dir.output_path, 'df_final.pkl'))\n",
        "df_final.head()"
      ]
    },
    {
      "cell_type": "markdown",
      "id": "5884738d",
      "metadata": {},
      "source": [
        "# Define model_01_thermal"
      ]
    },
    {
      "cell_type": "code",
      "execution_count": 5,
      "id": "f44b9287",
      "metadata": {},
      "outputs": [],
      "source": [
        "from dstoolkit.forcaster import TimeSeriesDataset, Trainer"
      ]
    },
    {
      "cell_type": "markdown",
      "id": "f23ed7fb",
      "metadata": {},
      "source": [
        "## Parameter setup"
      ]
    },
    {
      "cell_type": "code",
      "execution_count": 9,
      "id": "9a29431f",
      "metadata": {},
      "outputs": [],
      "source": [
        "ds = TimeSeriesDataset(df_final, \"value\", sku_col=\"site_id\", datetime_col=\"timestamp\")\n",
        "month_dummies = ds.add_month_dummies()\n",
        "weekday_dummies = ds.add_weekdays_dummies()"
      ]
    },
    {
      "cell_type": "markdown",
      "id": "0a768e0d",
      "metadata": {},
      "source": [
        "### Intermittent Profilling"
      ]
    },
    {
      "cell_type": "code",
      "execution_count": null,
      "id": "f5e26096",
      "metadata": {},
      "outputs": [],
      "source": [
        "score_mix = ds.enh_idclass5(threshold, perc, quant, highest, lowest)\n",
        "\n",
        "ds.classify_intermittent(score_mix)\n",
        "# or\n",
        "ds.classify_intermittent(score_mix, thres_cv2_constant=0.05)"
      ]
    },
    {
      "cell_type": "markdown",
      "id": "146e2f2d",
      "metadata": {},
      "source": [
        "## Regressors dictionary"
      ]
    },
    {
      "cell_type": "markdown",
      "id": "e5ad21db",
      "metadata": {},
      "source": [
        "#### Interaction terms"
      ]
    },
    {
      "cell_type": "code",
      "execution_count": 23,
      "id": "14ab926f",
      "metadata": {},
      "outputs": [],
      "source": [
        "interaction_cols = ds.add_interactions(col1=['temperature'], col2=month_dummies)"
      ]
    },
    {
      "cell_type": "markdown",
      "id": "6945c3d0",
      "metadata": {},
      "source": [
        "#### Non linear terms"
      ]
    },
    {
      "cell_type": "code",
      "execution_count": 24,
      "id": "39e6b24d",
      "metadata": {},
      "outputs": [],
      "source": [
        "ds.add_non_linear_term(\"temperature\", 2)\n",
        "ds.add_non_linear_term(\"temperature\", 3)"
      ]
    },
    {
      "cell_type": "markdown",
      "id": "021524df",
      "metadata": {},
      "source": [
        "## Algorithms dictionary"
      ]
    },
    {
      "cell_type": "code",
      "execution_count": 25,
      "id": "37117f23",
      "metadata": {},
      "outputs": [],
      "source": [
        "# Define algorithms to test\n",
        "# First Algorithm in the list is the default algorithm\n",
        "n_jobs = -1\n",
        "algorithms = [\n",
        "    RandomForestRegressor(n_estimators=200, max_depth = 10, random_state =0, n_jobs=n_jobs),\n",
        "    LinearRegression(n_jobs=n_jobs),\n",
        "    xgb.XGBRegressor(objective ='reg:squarederror', colsample_bytree = 0.3, learning_rate = 0.5,\n",
        "                                max_depth = 5, alpha = 10, n_estimators = 50)\n",
        "]\n"
      ]
    },
    {
      "cell_type": "markdown",
      "id": "SnZLgs7EAatB",
      "metadata": {
        "id": "SnZLgs7EAatB"
      },
      "source": [
        "## Training"
      ]
    },
    {
      "cell_type": "markdown",
      "id": "01cc7822",
      "metadata": {},
      "source": [
        "### Training parameters"
      ]
    },
    {
      "cell_type": "markdown",
      "id": "8feed5d5",
      "metadata": {},
      "source": [
        "### Site stats"
      ]
    },
    {
      "cell_type": "code",
      "execution_count": 28,
      "id": "b85e4455",
      "metadata": {},
      "outputs": [
        {
          "name": "stdout",
          "output_type": "stream",
          "text": [
            "SitesIds with most samples [42, 22, 25, 49, 16]\n"
          ]
        }
      ],
      "source": [
        "site_stats = ds.stats_per_sku()\n",
        "\n",
        "# Selecting Sites with most samples\n",
        "top5_sites = site_stats.iloc[:5][\"id\"]\n",
        "print(\"SitesIds with most samples\", top5_sites.to_list())"
      ]
    },
    {
      "cell_type": "markdown",
      "id": "037e984b",
      "metadata": {},
      "source": [
        "### Training dataframe"
      ]
    },
    {
      "cell_type": "code",
      "execution_count": 29,
      "id": "bdR2WHnTiaUa",
      "metadata": {
        "id": "bdR2WHnTiaUa"
      },
      "outputs": [
        {
          "name": "stdout",
          "output_type": "stream",
          "text": [
            "Actual id list: [16, 22, 25, 42, 49]\n",
            "Actual regressors available: ['temperature*month_07', 'DDH_temperature', 'wd_tue', 'surface', 'value', 'temperature^2', 'wd_fri', 'wd_wed', 'wd_sat', 'temperature*month_02', 'forecast_id', 'month_01', 'temperature*month_10', 'temperature*month_03', 'month_04', 'day_off', 'temperature*month_08', 'wd_sun', 'month_12', 'month_03', 'holidays', 'month_06', 'temperature*month_11', 'base_temperature', 'temperature*month_01', 'wd_thu', 'distance', 'DDC_temperature', 'temperature*month_12', 'obs_id', 'month_07', 'month_05', 'month_09', 'month_02', 'temperature*month_09', 'temperature', 'wd_mon', 'temperature*month_05', 'temperature*month_04', 'month_11', 'month_10', 'month_08']\n"
          ]
        }
      ],
      "source": [
        "ds.df = ds.df.loc[(ds.df[\"site_id\"].isin(top5_sites)), ]\n",
        "print('Actual id list:', list(ds.df[id].unique()))\n",
        "print('Actual regressors available:', ds.regressors)"
      ]
    },
    {
      "cell_type": "markdown",
      "id": "258e375b",
      "metadata": {},
      "source": [
        "# Forecasting"
      ]
    },
    {
      "cell_type": "markdown",
      "id": "dbb1f79b",
      "metadata": {},
      "source": []
    },
    {
      "cell_type": "code",
      "execution_count": null,
      "id": "57044ea2",
      "metadata": {},
      "outputs": [],
      "source": [
        "train_ds, test_ds = ds.get_train_test_split(forecast_scope=730)\n",
        "\n",
        "trainer = Trainer(algorithms)\n",
        "trained_model, best_algorithm = trainer.train(train_ds, test_ds)\n",
        "\n",
        "# Optionally save model to Blob/AzureML"
      ]
    },
    {
      "cell_type": "code",
      "execution_count": null,
      "id": "5e9f037d",
      "metadata": {},
      "outputs": [],
      "source": [
        "forcasted_df = trainer.forcast(test_ds)"
      ]
    },
    {
      "cell_type": "markdown",
      "id": "dWZkD8v6RLwk",
      "metadata": {
        "id": "dWZkD8v6RLwk"
      },
      "source": [
        "# Finalize"
      ]
    },
    {
      "cell_type": "markdown",
      "id": "3cbacdeb",
      "metadata": {},
      "source": [
        "### Create csv as per input format of PowerBI"
      ]
    },
    {
      "cell_type": "code",
      "execution_count": null,
      "id": "3bdd8483",
      "metadata": {},
      "outputs": [],
      "source": [
        "forcasted_ds = trainer.forcast_to_pbi_csv(test_ds, filename=\"outputs/energy_pred.csv\")"
      ]
    },
    {
      "cell_type": "markdown",
      "id": "1985040e",
      "metadata": {},
      "source": [
        "### Compute KPI"
      ]
    },
    {
      "cell_type": "code",
      "execution_count": null,
      "id": "63ed9905",
      "metadata": {},
      "outputs": [],
      "source": [
        "mae, mape = trainer.compute_model_kpi(forcasted_ds)\n",
        "\n",
        "print(\"MAE:\", mae)\n",
        "print(\"MAPE:\", mape)"
      ]
    },
    {
      "cell_type": "markdown",
      "id": "_nrSxU-r-CNz",
      "metadata": {
        "id": "_nrSxU-r-CNz"
      },
      "source": [
        "### Plotting results"
      ]
    },
    {
      "cell_type": "code",
      "execution_count": null,
      "id": "ae1d8f6c",
      "metadata": {},
      "outputs": [],
      "source": [
        "forcasted_ds.plot(chart_title=\"Energy prediction\")"
      ]
    },
    {
      "cell_type": "markdown",
      "id": "XzJoCxhYKAXQ",
      "metadata": {
        "id": "XzJoCxhYKAXQ"
      },
      "source": [
        "# Conversion factors\n",
        "KGCO2 = 0.2453kg/KWh\n",
        "\n",
        "Pounds = $0.1189/KWh"
      ]
    }
  ],
  "metadata": {
    "colab": {
      "collapsed_sections": [
        "AbKOiffyAql8",
        "6YxUycDC9p0h"
      ],
      "name": "Analysis (1).ipynb",
      "provenance": []
    },
    "kernelspec": {
      "display_name": "Python 3 (ipykernel)",
      "language": "python",
      "name": "python3"
    },
    "language_info": {
      "codemirror_mode": {
        "name": "ipython",
        "version": 3
      },
      "file_extension": ".py",
      "mimetype": "text/x-python",
      "name": "python",
      "nbconvert_exporter": "python",
      "pygments_lexer": "ipython3",
      "version": "3.9.7"
    }
  },
  "nbformat": 4,
  "nbformat_minor": 5
}
